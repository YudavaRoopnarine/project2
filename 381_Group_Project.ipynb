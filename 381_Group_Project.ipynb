{
  "cells": [
    {
      "cell_type": "markdown",
      "metadata": {
        "id": "view-in-github",
        "colab_type": "text"
      },
      "source": [
        "<a href=\"https://colab.research.google.com/github/oatthegreat/project2/blob/main/381_Group_Project.ipynb\" target=\"_parent\"><img src=\"https://colab.research.google.com/assets/colab-badge.svg\" alt=\"Open In Colab\"/></a>"
      ]
    },
    {
      "cell_type": "markdown",
      "source": [
        "<ol>\n",
        "   <h1>Project 2</h1>\n",
        "  <li>Yudava Roopnarine</li>\n",
        "  <li>Alejandro Mandujano</li>\n",
        "  <li>Ishrat Amin</li>\n",
        "  <li>Jonathan Bernard</li>\n",
        "</ol>"
      ],
      "metadata": {
        "id": "NqYDi4i23u8Q"
      }
    },
    {
      "cell_type": "markdown",
      "source": [
        "# Dataset on Risk Management in Eastern African Countries"
      ],
      "metadata": {
        "id": "7BtK27vp3g6o"
      }
    },
    {
      "cell_type": "markdown",
      "source": [
        "# Data Summary"
      ],
      "metadata": {
        "id": "YZRH3RJf2pWG"
      }
    },
    {
      "cell_type": "markdown",
      "source": [
        "INFORM is a public forum based in the European Union (EU) that shares analysis regarding various crisis and disasters for humanitarian relief. It’s main product, INFORM RISK, is a generalization of specific areas and their risk of a crisis based on a spectrum of factors pertaining to structural conditions. It is used to help in risk reduction as well as crisis prevention and preparedness. This dataset focuses on the cities in eastern African countries."
      ],
      "metadata": {
        "id": "rjIp2ZA22y-M"
      }
    },
    {
      "cell_type": "markdown",
      "source": [
        "This dataset came from the EU website https://drmkc.jrc.ec.europa.eu/inform-index . This data subset contains 146 rows and 30 attributes. Our subset uses only 10 attributes. The dataset attributes are:"
      ],
      "metadata": {
        "id": "FfgJDaNM4ytP"
      }
    },
    {
      "cell_type": "markdown",
      "source": [
        "- COUNTRY: Country city is in                        \n",
        "- Physical exposure to flood: risk rating (0-10)       \n",
        "- Physical exposure to drought: risk rating (0-10)     \n",
        "- Natural: risk rating (0-10) of earthquakes, floods, tsunamis, tropical cyclones, droughts, epidemics                          \n",
        "- Political violence: risk rating (0-10)               \n",
        "- Conflict probability: risk rating (0-10)             \n",
        "- Human: risk rating (0-10) of conflicts, unrest, or crime                            \n",
        "- HAZARD: risk rating (0-10) of natural and human causes\n",
        "- Development & Deprivation: risk rating (0-10)\n",
        "- Inequality: risk rating (0-10)"
      ],
      "metadata": {
        "id": "oLy07LvY4g-H"
      }
    },
    {
      "cell_type": "code",
      "source": [
        "import pandas as pd\n",
        "import numpy as np\n",
        "import seaborn as sns\n",
        "import warnings\n",
        "import matplotlib.pyplot as plt\n",
        "import missingno as msno\n",
        "from sklearn.metrics import accuracy_score, confusion_matrix, roc_curve, roc_auc_score, classification_report, precision_recall_curve, average_precision_score \n",
        "import statsmodels.api as sm\n",
        "from sklearn.linear_model import LogisticRegression\n",
        "from sklearn.metrics import classification_report\n",
        "\n",
        "# Majority of the code used from this project was pulled from M_Fried_M8_assn (1).ipynb given on blackboard, it has been slightly altered to fit this dataset instead of the boston housing dataset\n",
        "df = pd.read_csv(\"https://raw.githubusercontent.com/oatthegreat/project2/main/inform-ghoa-2015-v13-16feb-xlsx-1.csv\",skiprows=2)\n",
        "pd.set_option('display.max_columns', None)\n",
        "df.index += 1\n",
        "warnings.filterwarnings('ignore')\n",
        "\n",
        "#drop columns\n",
        "df.drop('Unnamed: 3',1,inplace = True)\n",
        "df.drop('(a-z).2',1,inplace = True)\n",
        "df.drop('(a-z).1',1,inplace = True)\n",
        "df.drop('(0-10).9',1,inplace = True)\n",
        "df.drop('(0-10).10',1,inplace = True)\n",
        "df.drop('(0-10).11',1,inplace = True)\n",
        "df.drop('(0-10).12',1,inplace = True)\n",
        "df.drop('(0-10).13',1,inplace = True)\n",
        "df.drop('(0-10).14',1,inplace = True)\n",
        "df.drop('(0-10).15',1,inplace = True)\n",
        "df.drop('(0-10).16',1,inplace = True)\n",
        "df.drop('(0-10).17',1,inplace = True)\n",
        "df.drop('(0-10).18',1,inplace = True)\n",
        "df.drop('(0-10).19',1,inplace = True)\n",
        "df.drop('(0-10).20',1,inplace = True)\n",
        "df.drop('(0-10).21',1,inplace = True)\n",
        "df.drop('(0-10).22',1,inplace = True)\n",
        "df.drop('(0-10).23',1,inplace = True)\n",
        "df.drop('(0-10).24',1,inplace = True)\n",
        "df.drop('(0-10).25',1,inplace = True)\n",
        "df.drop('Unnamed: 25',1,inplace = True)\n",
        "df.drop('Unnamed: 28',1,inplace = True)\n",
        "df.drop('Unnamed: 30',1,inplace = True)\n",
        "\n",
        "\n",
        "df.columns = ['COUNTRY', 'Physical_exposure_to_flood', 'Physical_exposure_to_drought', 'Natural','Political_violence', 'Conflict_probability', 'Human', 'HAZARD', 'Development_&_Deprivation', 'Inequality']\n",
        "\n",
        "\n",
        "df.describe()\n",
        "df.head()"
      ],
      "metadata": {
        "id": "I0DpdB9Hsy-h",
        "colab": {
          "base_uri": "https://localhost:8080/",
          "height": 242
        },
        "outputId": "0ff009e3-10bb-4ddc-8c45-e3bb87775e16"
      },
      "execution_count": null,
      "outputs": [
        {
          "output_type": "stream",
          "name": "stderr",
          "text": [
            "/usr/local/lib/python3.7/dist-packages/statsmodels/tools/_testing.py:19: FutureWarning: pandas.util.testing is deprecated. Use the functions in the public API at pandas.testing instead.\n",
            "  import pandas.util.testing as tm\n"
          ]
        },
        {
          "output_type": "execute_result",
          "data": {
            "text/plain": [
              "   COUNTRY  Physical_exposure_to_flood  Physical_exposure_to_drought  Natural  \\\n",
              "1  Burundi                         3.9                           4.8      4.3   \n",
              "2  Burundi                         3.9                           4.8      4.3   \n",
              "3  Burundi                         3.9                           4.8      4.3   \n",
              "4  Burundi                         3.9                           4.8      4.3   \n",
              "5  Burundi                         3.9                           4.8      4.3   \n",
              "\n",
              "   Political_violence  Conflict_probability  Human  HAZARD  \\\n",
              "1                 3.6                   4.7    3.3     3.8   \n",
              "2                 3.6                   4.7    3.3     3.8   \n",
              "3                 3.6                   4.7    3.3     3.8   \n",
              "4                 0.3                   4.7    3.3     3.8   \n",
              "5                 0.0                   4.7    3.3     3.8   \n",
              "\n",
              "   Development_&_Deprivation Inequality  \n",
              "1                        8.5        4.0  \n",
              "2                        6.5        3.4  \n",
              "3                        8.5        4.0  \n",
              "4                        7.9        3.9  \n",
              "5                        8.3        3.9  "
            ],
            "text/html": [
              "\n",
              "  <div id=\"df-e8d12146-d732-465d-a331-a0bda597ac97\">\n",
              "    <div class=\"colab-df-container\">\n",
              "      <div>\n",
              "<style scoped>\n",
              "    .dataframe tbody tr th:only-of-type {\n",
              "        vertical-align: middle;\n",
              "    }\n",
              "\n",
              "    .dataframe tbody tr th {\n",
              "        vertical-align: top;\n",
              "    }\n",
              "\n",
              "    .dataframe thead th {\n",
              "        text-align: right;\n",
              "    }\n",
              "</style>\n",
              "<table border=\"1\" class=\"dataframe\">\n",
              "  <thead>\n",
              "    <tr style=\"text-align: right;\">\n",
              "      <th></th>\n",
              "      <th>COUNTRY</th>\n",
              "      <th>Physical_exposure_to_flood</th>\n",
              "      <th>Physical_exposure_to_drought</th>\n",
              "      <th>Natural</th>\n",
              "      <th>Political_violence</th>\n",
              "      <th>Conflict_probability</th>\n",
              "      <th>Human</th>\n",
              "      <th>HAZARD</th>\n",
              "      <th>Development_&amp;_Deprivation</th>\n",
              "      <th>Inequality</th>\n",
              "    </tr>\n",
              "  </thead>\n",
              "  <tbody>\n",
              "    <tr>\n",
              "      <th>1</th>\n",
              "      <td>Burundi</td>\n",
              "      <td>3.9</td>\n",
              "      <td>4.8</td>\n",
              "      <td>4.3</td>\n",
              "      <td>3.6</td>\n",
              "      <td>4.7</td>\n",
              "      <td>3.3</td>\n",
              "      <td>3.8</td>\n",
              "      <td>8.5</td>\n",
              "      <td>4.0</td>\n",
              "    </tr>\n",
              "    <tr>\n",
              "      <th>2</th>\n",
              "      <td>Burundi</td>\n",
              "      <td>3.9</td>\n",
              "      <td>4.8</td>\n",
              "      <td>4.3</td>\n",
              "      <td>3.6</td>\n",
              "      <td>4.7</td>\n",
              "      <td>3.3</td>\n",
              "      <td>3.8</td>\n",
              "      <td>6.5</td>\n",
              "      <td>3.4</td>\n",
              "    </tr>\n",
              "    <tr>\n",
              "      <th>3</th>\n",
              "      <td>Burundi</td>\n",
              "      <td>3.9</td>\n",
              "      <td>4.8</td>\n",
              "      <td>4.3</td>\n",
              "      <td>3.6</td>\n",
              "      <td>4.7</td>\n",
              "      <td>3.3</td>\n",
              "      <td>3.8</td>\n",
              "      <td>8.5</td>\n",
              "      <td>4.0</td>\n",
              "    </tr>\n",
              "    <tr>\n",
              "      <th>4</th>\n",
              "      <td>Burundi</td>\n",
              "      <td>3.9</td>\n",
              "      <td>4.8</td>\n",
              "      <td>4.3</td>\n",
              "      <td>0.3</td>\n",
              "      <td>4.7</td>\n",
              "      <td>3.3</td>\n",
              "      <td>3.8</td>\n",
              "      <td>7.9</td>\n",
              "      <td>3.9</td>\n",
              "    </tr>\n",
              "    <tr>\n",
              "      <th>5</th>\n",
              "      <td>Burundi</td>\n",
              "      <td>3.9</td>\n",
              "      <td>4.8</td>\n",
              "      <td>4.3</td>\n",
              "      <td>0.0</td>\n",
              "      <td>4.7</td>\n",
              "      <td>3.3</td>\n",
              "      <td>3.8</td>\n",
              "      <td>8.3</td>\n",
              "      <td>3.9</td>\n",
              "    </tr>\n",
              "  </tbody>\n",
              "</table>\n",
              "</div>\n",
              "      <button class=\"colab-df-convert\" onclick=\"convertToInteractive('df-e8d12146-d732-465d-a331-a0bda597ac97')\"\n",
              "              title=\"Convert this dataframe to an interactive table.\"\n",
              "              style=\"display:none;\">\n",
              "        \n",
              "  <svg xmlns=\"http://www.w3.org/2000/svg\" height=\"24px\"viewBox=\"0 0 24 24\"\n",
              "       width=\"24px\">\n",
              "    <path d=\"M0 0h24v24H0V0z\" fill=\"none\"/>\n",
              "    <path d=\"M18.56 5.44l.94 2.06.94-2.06 2.06-.94-2.06-.94-.94-2.06-.94 2.06-2.06.94zm-11 1L8.5 8.5l.94-2.06 2.06-.94-2.06-.94L8.5 2.5l-.94 2.06-2.06.94zm10 10l.94 2.06.94-2.06 2.06-.94-2.06-.94-.94-2.06-.94 2.06-2.06.94z\"/><path d=\"M17.41 7.96l-1.37-1.37c-.4-.4-.92-.59-1.43-.59-.52 0-1.04.2-1.43.59L10.3 9.45l-7.72 7.72c-.78.78-.78 2.05 0 2.83L4 21.41c.39.39.9.59 1.41.59.51 0 1.02-.2 1.41-.59l7.78-7.78 2.81-2.81c.8-.78.8-2.07 0-2.86zM5.41 20L4 18.59l7.72-7.72 1.47 1.35L5.41 20z\"/>\n",
              "  </svg>\n",
              "      </button>\n",
              "      \n",
              "  <style>\n",
              "    .colab-df-container {\n",
              "      display:flex;\n",
              "      flex-wrap:wrap;\n",
              "      gap: 12px;\n",
              "    }\n",
              "\n",
              "    .colab-df-convert {\n",
              "      background-color: #E8F0FE;\n",
              "      border: none;\n",
              "      border-radius: 50%;\n",
              "      cursor: pointer;\n",
              "      display: none;\n",
              "      fill: #1967D2;\n",
              "      height: 32px;\n",
              "      padding: 0 0 0 0;\n",
              "      width: 32px;\n",
              "    }\n",
              "\n",
              "    .colab-df-convert:hover {\n",
              "      background-color: #E2EBFA;\n",
              "      box-shadow: 0px 1px 2px rgba(60, 64, 67, 0.3), 0px 1px 3px 1px rgba(60, 64, 67, 0.15);\n",
              "      fill: #174EA6;\n",
              "    }\n",
              "\n",
              "    [theme=dark] .colab-df-convert {\n",
              "      background-color: #3B4455;\n",
              "      fill: #D2E3FC;\n",
              "    }\n",
              "\n",
              "    [theme=dark] .colab-df-convert:hover {\n",
              "      background-color: #434B5C;\n",
              "      box-shadow: 0px 1px 3px 1px rgba(0, 0, 0, 0.15);\n",
              "      filter: drop-shadow(0px 1px 2px rgba(0, 0, 0, 0.3));\n",
              "      fill: #FFFFFF;\n",
              "    }\n",
              "  </style>\n",
              "\n",
              "      <script>\n",
              "        const buttonEl =\n",
              "          document.querySelector('#df-e8d12146-d732-465d-a331-a0bda597ac97 button.colab-df-convert');\n",
              "        buttonEl.style.display =\n",
              "          google.colab.kernel.accessAllowed ? 'block' : 'none';\n",
              "\n",
              "        async function convertToInteractive(key) {\n",
              "          const element = document.querySelector('#df-e8d12146-d732-465d-a331-a0bda597ac97');\n",
              "          const dataTable =\n",
              "            await google.colab.kernel.invokeFunction('convertToInteractive',\n",
              "                                                     [key], {});\n",
              "          if (!dataTable) return;\n",
              "\n",
              "          const docLinkHtml = 'Like what you see? Visit the ' +\n",
              "            '<a target=\"_blank\" href=https://colab.research.google.com/notebooks/data_table.ipynb>data table notebook</a>'\n",
              "            + ' to learn more about interactive tables.';\n",
              "          element.innerHTML = '';\n",
              "          dataTable['output_type'] = 'display_data';\n",
              "          await google.colab.output.renderOutput(dataTable, element);\n",
              "          const docLink = document.createElement('div');\n",
              "          docLink.innerHTML = docLinkHtml;\n",
              "          element.appendChild(docLink);\n",
              "        }\n",
              "      </script>\n",
              "    </div>\n",
              "  </div>\n",
              "  "
            ]
          },
          "metadata": {},
          "execution_count": 2
        }
      ]
    },
    {
      "cell_type": "markdown",
      "source": [
        "# EDA"
      ],
      "metadata": {
        "id": "2hkIfTqfBCTP"
      }
    },
    {
      "cell_type": "markdown",
      "source": [
        "Categorical data will use count plots while Numerical data will use box plots.\n",
        "\n",
        "Numerical Data using box plots will be used the Overall Risk Index which is on a scale of 0 - 10"
      ],
      "metadata": {
        "id": "VUnkgNOEOIvK"
      }
    },
    {
      "cell_type": "markdown",
      "source": [
        "## Attribute 1: City Count"
      ],
      "metadata": {
        "id": "7ViXnwFTBCTU"
      }
    },
    {
      "cell_type": "markdown",
      "source": [
        "There are 10 countries in the data set.\n",
        "\n",
        "The Majority of the cities in the data set are in Kenya, while the country with the least amount of cities tied between Rwanda and Djibouti."
      ],
      "metadata": {
        "id": "P2pW6p3DBCTV"
      }
    },
    {
      "cell_type": "code",
      "source": [
        "plt1_sns = sns.countplot(data=df, y=\"COUNTRY\").set(title='Number of Cities in Countries') # Graph for EDA\n",
        "plt1_sns;\n",
        "print(df[\"COUNTRY\"].describe()) # Describe to show stats"
      ],
      "metadata": {
        "colab": {
          "base_uri": "https://localhost:8080/"
        },
        "outputId": "d181cf09-0de8-4754-9adb-cc4b63a9ab8e",
        "id": "N2H0KH75BCTV"
      },
      "execution_count": null,
      "outputs": [
        {
          "output_type": "stream",
          "name": "stdout",
          "text": [
            "count       146\n",
            "unique       10\n",
            "top       Kenya\n",
            "freq         47\n",
            "Name: COUNTRY, dtype: object\n"
          ]
        },
        {
          "output_type": "display_data",
          "data": {
            "text/plain": [
              "<Figure size 432x288 with 1 Axes>"
            ],
            "image/png": "[encoded data removed]"
          },
          "metadata": {
            "needs_background": "light"
          }
        }
      ]
    },
    {
      "cell_type": "markdown",
      "source": [
        "## Attribute 2: Physical Exposure to Flood"
      ],
      "metadata": {
        "id": "_Bm74QBQBCTV"
      }
    },
    {
      "cell_type": "markdown",
      "source": [
        "The mean of the cities that have a physical exposure to floods is around a 7.0 on the Overall Risk Index.\n",
        "\n",
        "The majority of the cities are between 4 and 10.\n",
        "\n",
        "The Max has a value of 10 while the min has a value of 0."
      ],
      "metadata": {
        "id": "HkE4BfOELKdx"
      }
    },
    {
      "cell_type": "code",
      "source": [
        "plt2_sns = sns.boxplot(data=df, y=\"Physical_exposure_to_flood\").set(title=\"Physical exposure to floods\") # Graph for EDA\n",
        "plt2_sns;\n",
        "print(df[\"Physical_exposure_to_flood\"].describe()) # Describe to show stats"
      ],
      "metadata": {
        "colab": {
          "base_uri": "https://localhost:8080/"
        },
        "outputId": "5fa46ffc-0811-443d-dc36-d17683eda5b3",
        "id": "kgp58AruBCTV"
      },
      "execution_count": null,
      "outputs": [
        {
          "output_type": "stream",
          "name": "stdout",
          "text": [
            "count    146.000000\n",
            "mean       7.063699\n",
            "std        3.291910\n",
            "min        0.000000\n",
            "25%        3.900000\n",
            "50%        8.450000\n",
            "75%       10.000000\n",
            "max       10.000000\n",
            "Name: Physical_exposure_to_flood, dtype: float64\n"
          ]
        },
        {
          "output_type": "display_data",
          "data": {
            "text/plain": [
              "<Figure size 432x288 with 1 Axes>"
            ],
            "image/png": "[encoded data removed]"
          },
          "metadata": {
            "needs_background": "light"
          }
        }
      ]
    },
    {
      "cell_type": "markdown",
      "source": [
        "## Attribute 3: Physical exposure to drought"
      ],
      "metadata": {
        "id": "VVgnioExBCTW"
      }
    },
    {
      "cell_type": "markdown",
      "source": [
        "The mean of the cities that have a physical exposure to droughts is around a 5.0 on the Overall Risk Index.\n",
        "\n",
        "The majority of the cities are between 4 and 7.\n",
        "\n",
        "The Max has a value of 9.3 while the min has a value of 0."
      ],
      "metadata": {
        "id": "bUW_9umEUHXV"
      }
    },
    {
      "cell_type": "code",
      "source": [
        "plt3_sns = sns.boxplot(data=df, y=\"Physical_exposure_to_drought\").set(title=\"Physical exposure to droughts\") # Graph for EDA\n",
        "plt3_sns;\n",
        "print(df[\"Physical_exposure_to_drought\"].describe()) # Describe to show stats"
      ],
      "metadata": {
        "colab": {
          "base_uri": "https://localhost:8080/"
        },
        "outputId": "6240e262-8e12-4ad9-bec5-639f387ac6bb",
        "id": "k4eUQyg3BCTW"
      },
      "execution_count": null,
      "outputs": [
        {
          "output_type": "stream",
          "name": "stdout",
          "text": [
            "count    146.000000\n",
            "mean       5.039726\n",
            "std        2.141526\n",
            "min        0.000000\n",
            "25%        3.925000\n",
            "50%        5.750000\n",
            "75%        6.600000\n",
            "max        9.300000\n",
            "Name: Physical_exposure_to_drought, dtype: float64\n"
          ]
        },
        {
          "output_type": "display_data",
          "data": {
            "text/plain": [
              "<Figure size 432x288 with 1 Axes>"
            ],
            "image/png": "[encoded data removed]"
          },
          "metadata": {
            "needs_background": "light"
          }
        }
      ]
    },
    {
      "cell_type": "markdown",
      "source": [
        "## Attribute 4: Natural"
      ],
      "metadata": {
        "id": "SkJi8FmdBCTW"
      }
    },
    {
      "cell_type": "markdown",
      "source": [
        "The mean of the cities that have a natural exposure is around a 6.5 on the Overall Risk Index.\n",
        "\n",
        "The majority of the cities are between 4 and 8.5.\n",
        "\n",
        "The Max has a value of 9.2 while the min has a value of 0."
      ],
      "metadata": {
        "id": "zFrrhWx0Usr3"
      }
    },
    {
      "cell_type": "code",
      "source": [
        "plt4_sns = sns.boxplot(data=df, y=\"Natural\").set(title=\"Natural\") # Graph for EDA\n",
        "plt4_sns;\n",
        "print(df[\"Natural\"].describe()) # Describe to show stats"
      ],
      "metadata": {
        "colab": {
          "base_uri": "https://localhost:8080/"
        },
        "outputId": "bd339726-fddf-406c-df89-7890b2795424",
        "id": "PvWPhP81BCTW"
      },
      "execution_count": null,
      "outputs": [
        {
          "output_type": "stream",
          "name": "stdout",
          "text": [
            "count    146.000000\n",
            "mean       6.594521\n",
            "std        2.203094\n",
            "min        0.000000\n",
            "25%        4.425000\n",
            "50%        7.600000\n",
            "75%        8.400000\n",
            "max        9.200000\n",
            "Name: Natural, dtype: float64\n"
          ]
        },
        {
          "output_type": "display_data",
          "data": {
            "text/plain": [
              "<Figure size 432x288 with 1 Axes>"
            ],
            "image/png": "[encoded data removed]"
          },
          "metadata": {
            "needs_background": "light"
          }
        }
      ]
    },
    {
      "cell_type": "markdown",
      "source": [
        "## Attribute 5: Political Violence"
      ],
      "metadata": {
        "id": "M4rV-uU2BCTZ"
      }
    },
    {
      "cell_type": "markdown",
      "source": [
        "The mean of the cities that have a risk of political violence is around a 4.8 on the Overall Risk Index.\n",
        "\n",
        "The majority of the cities are between 1 and 10 on the Overall Risk Index.\n",
        "\n",
        "The Max has a value of 10 while the min has a value of 0."
      ],
      "metadata": {
        "id": "3nG2EgBtVH-v"
      }
    },
    {
      "cell_type": "code",
      "source": [
        "plt5_sns = sns.boxplot(data=df, y=\"Political_violence\").set(title=\"Political violence\") # Graph for EDA\n",
        "plt5_sns;\n",
        "print(df[\"Political_violence\"].describe()) # Describe to show stats"
      ],
      "metadata": {
        "colab": {
          "base_uri": "https://localhost:8080/"
        },
        "outputId": "1ea5e021-ba3d-4095-8a08-b351fa236514",
        "id": "WoHisewCBCTZ"
      },
      "execution_count": null,
      "outputs": [
        {
          "output_type": "stream",
          "name": "stdout",
          "text": [
            "count    146.000000\n",
            "mean       4.851370\n",
            "std        3.943362\n",
            "min        0.000000\n",
            "25%        0.725000\n",
            "50%        3.600000\n",
            "75%       10.000000\n",
            "max       10.000000\n",
            "Name: Political_violence, dtype: float64\n"
          ]
        },
        {
          "output_type": "display_data",
          "data": {
            "text/plain": [
              "<Figure size 432x288 with 1 Axes>"
            ],
            "image/png": "[encoded data removed]"
          },
          "metadata": {
            "needs_background": "light"
          }
        }
      ]
    },
    {
      "cell_type": "markdown",
      "source": [
        "## Attribute 6: Conflict Probability"
      ],
      "metadata": {
        "id": "NX_QzuaIBCTZ"
      }
    },
    {
      "cell_type": "markdown",
      "source": [
        "The mean of the cities that have a risk of a general conflict is around a 7.3 on the Overall Risk Index.\n",
        "\n",
        "The majority of the cities are between 5.2 and 9.5 on the Overall Risk Index.\n",
        "\n",
        "The Max has a value of 10 while the min has a value of 0.6."
      ],
      "metadata": {
        "id": "G0UNb7PnVsR7"
      }
    },
    {
      "cell_type": "code",
      "source": [
        "plt6_sns = sns.boxplot(data=df, y=\"Conflict_probability\").set(title=\"Conflict probability\") # Graph for EDA\n",
        "plt6_sns;\n",
        "print(df[\"Conflict_probability\"].describe()) # Describe to show stats"
      ],
      "metadata": {
        "colab": {
          "base_uri": "https://localhost:8080/"
        },
        "outputId": "ea1ca3f1-cab1-4aa5-c1d3-121b2ed1a8a2",
        "id": "2i9McZ6CBCTa"
      },
      "execution_count": null,
      "outputs": [
        {
          "output_type": "stream",
          "name": "stdout",
          "text": [
            "count    146.000000\n",
            "mean       7.331507\n",
            "std        2.760029\n",
            "min        0.600000\n",
            "25%        5.200000\n",
            "50%        8.400000\n",
            "75%        9.500000\n",
            "max       10.000000\n",
            "Name: Conflict_probability, dtype: float64\n"
          ]
        },
        {
          "output_type": "display_data",
          "data": {
            "text/plain": [
              "<Figure size 432x288 with 1 Axes>"
            ],
            "image/png": "[encoded data removed]"
          },
          "metadata": {
            "needs_background": "light"
          }
        }
      ]
    },
    {
      "cell_type": "markdown",
      "source": [
        "## Attribute 7: Human"
      ],
      "metadata": {
        "id": "_BCY0z1IBCTa"
      }
    },
    {
      "cell_type": "markdown",
      "source": [
        "The mean of the cities that have a human risk is around a 6.3 on the Overall Risk Index.\n",
        "\n",
        "The majority of the cities are between 3.6 and 10 on the Overall Risk Index.\n",
        "\n",
        "The Max has a value of 10 while the min has a value of 0.4."
      ],
      "metadata": {
        "id": "3sM_CArBWRnp"
      }
    },
    {
      "cell_type": "code",
      "source": [
        "plt7_sns = sns.boxplot(data=df, y=\"Human\").set(title=\"Human\") # Graph for EDA\n",
        "plt7_sns;\n",
        "print(df[\"Human\"].describe()) # Describe to show stats"
      ],
      "metadata": {
        "colab": {
          "base_uri": "https://localhost:8080/"
        },
        "outputId": "15f2cb02-5712-4ca0-b6d6-70b2f47f1f88",
        "id": "UvtI2krUBCTa"
      },
      "execution_count": null,
      "outputs": [
        {
          "output_type": "stream",
          "name": "stdout",
          "text": [
            "count    146.000000\n",
            "mean       6.306849\n",
            "std        2.975432\n",
            "min        0.400000\n",
            "25%        3.600000\n",
            "50%        6.400000\n",
            "75%       10.000000\n",
            "max       10.000000\n",
            "Name: Human, dtype: float64\n"
          ]
        },
        {
          "output_type": "display_data",
          "data": {
            "text/plain": [
              "<Figure size 432x288 with 1 Axes>"
            ],
            "image/png": "[encoded data removed]"
          },
          "metadata": {
            "needs_background": "light"
          }
        }
      ]
    },
    {
      "cell_type": "markdown",
      "source": [
        "## Attribute 8: Hazard"
      ],
      "metadata": {
        "id": "VKsxvcsxBCTa"
      }
    },
    {
      "cell_type": "markdown",
      "source": [
        "The mean of the cities that have a hazard risk is around a 6.6 on the Overall Risk Index.\n",
        "\n",
        "The majority of the cities are between 5.4 and 8.4 on the Overall Risk Index.\n",
        "\n",
        "The Max has a value of 9.6 while the min has a value of 0.6."
      ],
      "metadata": {
        "id": "TC6Uo2m8XAcl"
      }
    },
    {
      "cell_type": "code",
      "source": [
        "plt8_sns = sns.boxplot(data=df, y=\"HAZARD\").set(title=\"Hazard\") # Graph for EDA\n",
        "plt8_sns;\n",
        "print(df[\"HAZARD\"].describe()) # Describe to show stats"
      ],
      "metadata": {
        "colab": {
          "base_uri": "https://localhost:8080/"
        },
        "outputId": "b75a9a3f-2825-47e5-8ded-e1b8e8909075",
        "id": "cWRjUhqABCTa"
      },
      "execution_count": null,
      "outputs": [
        {
          "output_type": "stream",
          "name": "stdout",
          "text": [
            "count    146.000000\n",
            "mean       6.673288\n",
            "std        2.305923\n",
            "min        0.600000\n",
            "25%        5.425000\n",
            "50%        7.150000\n",
            "75%        8.450000\n",
            "max        9.600000\n",
            "Name: HAZARD, dtype: float64\n"
          ]
        },
        {
          "output_type": "display_data",
          "data": {
            "text/plain": [
              "<Figure size 432x288 with 1 Axes>"
            ],
            "image/png": "[encoded data removed]"
          },
          "metadata": {
            "needs_background": "light"
          }
        }
      ]
    },
    {
      "cell_type": "markdown",
      "source": [
        "## Attribute 9: Development & Deprivation"
      ],
      "metadata": {
        "id": "gF1DCjMfBCTa"
      }
    },
    {
      "cell_type": "markdown",
      "source": [
        "The mean of the cities that have a Development and Deprivation risk is around a 7 on the Overall Risk Index.\n",
        "\n",
        "The majority of the cities are between 5.6 and 8.8 on the Overall Risk Index.\n",
        "\n",
        "The Max has a value of 9.6 while the min has a value of 2.8."
      ],
      "metadata": {
        "id": "kc-Qe6NOXMxp"
      }
    },
    {
      "cell_type": "code",
      "source": [
        "plt9_sns = sns.boxplot(data=df, y=\"Development_&_Deprivation\").set(title=\"Development & Deprivation\") # Graph for EDA\n",
        "plt9_sns;\n",
        "print(df[\"Development_&_Deprivation\"].describe()) # Describe to show stats"
      ],
      "metadata": {
        "colab": {
          "base_uri": "https://localhost:8080/"
        },
        "outputId": "702a76d8-faee-4fd5-973a-fd1555aef9e4",
        "id": "BFe8zz-5BCTb"
      },
      "execution_count": null,
      "outputs": [
        {
          "output_type": "stream",
          "name": "stdout",
          "text": [
            "count    146.000000\n",
            "mean       7.034932\n",
            "std        1.644283\n",
            "min        2.800000\n",
            "25%        5.600000\n",
            "50%        6.600000\n",
            "75%        8.800000\n",
            "max        9.600000\n",
            "Name: Development_&_Deprivation, dtype: float64\n"
          ]
        },
        {
          "output_type": "display_data",
          "data": {
            "text/plain": [
              "<Figure size 432x288 with 1 Axes>"
            ],
            "image/png": "[encoded data removed]"
          },
          "metadata": {
            "needs_background": "light"
          }
        }
      ]
    },
    {
      "cell_type": "markdown",
      "source": [
        "## Attribute 10: Inequality"
      ],
      "metadata": {
        "id": "Kxs8IluOBCTb"
      }
    },
    {
      "cell_type": "markdown",
      "source": [
        "The mean of the cities that have a Development and Deprivation risk is around a 7 on the Overall Risk Index.\n",
        "\n",
        "The majority of the cities are between 5.6 and 8.8 on the Overall Risk Index."
      ],
      "metadata": {
        "id": "vZGwsqdMXufu"
      }
    },
    {
      "cell_type": "code",
      "source": [
        "plt10_sns = sns.countplot(data=df, y=\"Inequality\").set(title=\"Human\") # Graph for EDA\n",
        "plt10_sns;\n",
        "print(df[\"Inequality\"].describe()) # Describe to show stats"
      ],
      "metadata": {
        "colab": {
          "base_uri": "https://localhost:8080/"
        },
        "outputId": "1d50619d-065d-47c5-a981-1273d01b8403",
        "id": "fHkXb-QVBCTb"
      },
      "execution_count": null,
      "outputs": [
        {
          "output_type": "stream",
          "name": "stdout",
          "text": [
            "count     146\n",
            "unique     34\n",
            "top       5.5\n",
            "freq       18\n",
            "Name: Inequality, dtype: object\n"
          ]
        },
        {
          "output_type": "display_data",
          "data": {
            "text/plain": [
              "<Figure size 432x288 with 1 Axes>"
            ],
            "image/png": "[encoded data removed]"
          },
          "metadata": {
            "needs_background": "light"
          }
        }
      ]
    },
    {
      "cell_type": "code",
      "source": [
        "df.dtypes"
      ],
      "metadata": {
        "colab": {
          "base_uri": "https://localhost:8080/"
        },
        "outputId": "df1f22b1-55bd-4a6f-f8ff-4161cb112fa1",
        "id": "hz0lRHEmBCTb"
      },
      "execution_count": null,
      "outputs": [
        {
          "output_type": "execute_result",
          "data": {
            "text/plain": [
              "COUNTRY                          object\n",
              "Physical_exposure_to_flood      float64\n",
              "Physical_exposure_to_drought    float64\n",
              "Natural                         float64\n",
              "Political_violence              float64\n",
              "Conflict_probability            float64\n",
              "Human                           float64\n",
              "HAZARD                          float64\n",
              "Development_&_Deprivation       float64\n",
              "Inequality                       object\n",
              "dtype: object"
            ]
          },
          "metadata": {},
          "execution_count": 13
        }
      ]
    },
    {
      "cell_type": "markdown",
      "source": [
        "# Data Cleaning\n",
        "#Handling missing datas"
      ],
      "metadata": {
        "id": "g5rB6XwMtCqP"
      }
    },
    {
      "cell_type": "code",
      "source": [
        "#check how many values are null\n",
        "df.isnull().sum()"
      ],
      "metadata": {
        "id": "DkJdL9oD3scA",
        "colab": {
          "base_uri": "https://localhost:8080/"
        },
        "outputId": "1c309563-105b-4460-c4a0-78bf4e9a20b7"
      },
      "execution_count": null,
      "outputs": [
        {
          "output_type": "execute_result",
          "data": {
            "text/plain": [
              "COUNTRY                         0\n",
              "Physical_exposure_to_flood      0\n",
              "Physical_exposure_to_drought    0\n",
              "Natural                         0\n",
              "Political_violence              0\n",
              "Conflict_probability            0\n",
              "Human                           0\n",
              "HAZARD                          0\n",
              "Development_&_Deprivation       0\n",
              "Inequality                      0\n",
              "dtype: int64"
            ]
          },
          "metadata": {},
          "execution_count": 14
        }
      ]
    },
    {
      "cell_type": "code",
      "source": [
        "\n",
        "#Check the types of column\n",
        "df.dtypes"
      ],
      "metadata": {
        "colab": {
          "base_uri": "https://localhost:8080/"
        },
        "id": "EkLfkURCCQ1u",
        "outputId": "0c1c82fa-fbbf-4aa2-8634-e3a1ade23f12"
      },
      "execution_count": null,
      "outputs": [
        {
          "output_type": "execute_result",
          "data": {
            "text/plain": [
              "COUNTRY                          object\n",
              "Physical_exposure_to_flood      float64\n",
              "Physical_exposure_to_drought    float64\n",
              "Natural                         float64\n",
              "Political_violence              float64\n",
              "Conflict_probability            float64\n",
              "Human                           float64\n",
              "HAZARD                          float64\n",
              "Development_&_Deprivation       float64\n",
              "Inequality                       object\n",
              "dtype: object"
            ]
          },
          "metadata": {},
          "execution_count": 15
        }
      ]
    },
    {
      "cell_type": "code",
      "source": [
        "#We can see that Inequality column has object type,Which is impossible to have because when we look at our dataframe \n",
        "#Inequality has numerical values.We have to fixed this issue.\n",
        "\n",
        "df[\"Inequality\"].unique()"
      ],
      "metadata": {
        "colab": {
          "base_uri": "https://localhost:8080/"
        },
        "id": "0dnsMKFVCbIM",
        "outputId": "5860377e-2003-4216-c098-5b8328324840"
      },
      "execution_count": null,
      "outputs": [
        {
          "output_type": "execute_result",
          "data": {
            "text/plain": [
              "array(['4.0', '3.4', '3.9', '2.1', '2.2', 'x', '0.7', '4.1', '3.2', '2.9',\n",
              "       '3.8', '3.5', '3.1', '3.6', '4.5', '4.6', '5.0', '5.5', '4.8',\n",
              "       '4.4', '4.9', '6.5', '3.7', '4.7', '6.6', '5.9', '4.3', '5.3',\n",
              "       '4.2', '5.1', '7.0', '10.0', '2.6', '6.0'], dtype=object)"
            ]
          },
          "metadata": {},
          "execution_count": 16
        }
      ]
    },
    {
      "cell_type": "code",
      "source": [
        "#There is some kind of x exist in Ineuality column.Now we will see how many \"x\" exist in Ineuality column.\n",
        "df[\"Inequality\"].value_counts()"
      ],
      "metadata": {
        "colab": {
          "base_uri": "https://localhost:8080/"
        },
        "id": "8K0lmjx-DALm",
        "outputId": "80664028-995a-48a4-fd8c-ad844865bb72"
      },
      "execution_count": null,
      "outputs": [
        {
          "output_type": "execute_result",
          "data": {
            "text/plain": [
              "5.5     18\n",
              "10.0    18\n",
              "5.1     11\n",
              "3.9     11\n",
              "4.0      9\n",
              "4.7      8\n",
              "x        6\n",
              "4.5      6\n",
              "4.1      5\n",
              "4.8      5\n",
              "5.0      4\n",
              "2.1      4\n",
              "3.5      4\n",
              "4.6      4\n",
              "3.7      3\n",
              "4.9      3\n",
              "4.4      3\n",
              "3.2      3\n",
              "3.8      3\n",
              "3.6      3\n",
              "4.2      2\n",
              "3.4      1\n",
              "5.3      1\n",
              "2.6      1\n",
              "7.0      1\n",
              "2.2      1\n",
              "5.9      1\n",
              "4.3      1\n",
              "6.6      1\n",
              "2.9      1\n",
              "6.5      1\n",
              "3.1      1\n",
              "0.7      1\n",
              "6.0      1\n",
              "Name: Inequality, dtype: int64"
            ]
          },
          "metadata": {},
          "execution_count": 17
        }
      ]
    },
    {
      "cell_type": "code",
      "source": [
        "#Changing the datatype of Ineuality column and Filling the \"x\"\n",
        "df[\"Inequality\"].replace(\"x\",np.nan , inplace =True)\n",
        "df[\"Inequality\"] = df[\"Inequality\"].astype(\"float\")\n",
        "\n"
      ],
      "metadata": {
        "id": "18qjJlyjDYxB"
      },
      "execution_count": null,
      "outputs": []
    },
    {
      "cell_type": "code",
      "source": [
        "df[\"Inequality\"].fillna(df[\"Inequality\"].mean(),inplace = True)"
      ],
      "metadata": {
        "id": "1-ItePHuDuDh"
      },
      "execution_count": null,
      "outputs": []
    },
    {
      "cell_type": "code",
      "source": [
        "#Checkeing the dtype again\n",
        "df.dtypes"
      ],
      "metadata": {
        "colab": {
          "base_uri": "https://localhost:8080/"
        },
        "id": "x3eFB3rpDzSI",
        "outputId": "97806f6c-4d2d-4fd9-b7d0-9b3d08c5316e"
      },
      "execution_count": null,
      "outputs": [
        {
          "output_type": "execute_result",
          "data": {
            "text/plain": [
              "COUNTRY                          object\n",
              "Physical_exposure_to_flood      float64\n",
              "Physical_exposure_to_drought    float64\n",
              "Natural                         float64\n",
              "Political_violence              float64\n",
              "Conflict_probability            float64\n",
              "Human                           float64\n",
              "HAZARD                          float64\n",
              "Development_&_Deprivation       float64\n",
              "Inequality                      float64\n",
              "dtype: object"
            ]
          },
          "metadata": {},
          "execution_count": 20
        }
      ]
    },
    {
      "cell_type": "markdown",
      "source": [
        "#Handling Categorical data"
      ],
      "metadata": {
        "id": "-G9dH2IqFt9S"
      }
    },
    {
      "cell_type": "code",
      "source": [
        "df_cat = df.select_dtypes(object)\n",
        "\n",
        "\n",
        "df_cat[\"COUNTRY\"].value_counts()"
      ],
      "metadata": {
        "id": "HXdxAiM23tfN",
        "colab": {
          "base_uri": "https://localhost:8080/"
        },
        "outputId": "3ca91ae6-dfaa-4b15-b8b7-f98b3389dd19"
      },
      "execution_count": null,
      "outputs": [
        {
          "output_type": "execute_result",
          "data": {
            "text/plain": [
              "Kenya          47\n",
              "Somalia        18\n",
              "Burundi        17\n",
              "Sudan          17\n",
              "Ethiopia       11\n",
              "South Sudan    10\n",
              "Uganda         10\n",
              "Eritrea         6\n",
              "Djibouti        5\n",
              "Rwanda          5\n",
              "Name: COUNTRY, dtype: int64"
            ]
          },
          "metadata": {},
          "execution_count": 21
        }
      ]
    },
    {
      "cell_type": "code",
      "source": [
        "df_cat.head()"
      ],
      "metadata": {
        "id": "xivJpBofHO5y"
      },
      "execution_count": null,
      "outputs": []
    },
    {
      "cell_type": "code",
      "source": [
        "#Created a column of each country\n",
        "pd.get_dummies(df_cat[\"COUNTRY\"])"
      ],
      "metadata": {
        "id": "7afByfZe3vd3",
        "colab": {
          "base_uri": "https://localhost:8080/",
          "height": 424
        },
        "outputId": "080438df-c027-45b3-98cc-e57039346532"
      },
      "execution_count": null,
      "outputs": [
        {
          "output_type": "execute_result",
          "data": {
            "text/plain": [
              "     Burundi  Djibouti  Eritrea  Ethiopia  Kenya  Rwanda  Somalia  \\\n",
              "1          1         0        0         0      0       0        0   \n",
              "2          1         0        0         0      0       0        0   \n",
              "3          1         0        0         0      0       0        0   \n",
              "4          1         0        0         0      0       0        0   \n",
              "5          1         0        0         0      0       0        0   \n",
              "..       ...       ...      ...       ...    ...     ...      ...   \n",
              "142        0         0        0         0      0       0        0   \n",
              "143        0         0        0         0      0       0        0   \n",
              "144        0         0        0         0      0       0        0   \n",
              "145        0         0        0         0      0       0        0   \n",
              "146        0         0        0         0      0       0        0   \n",
              "\n",
              "     South Sudan  Sudan  Uganda  \n",
              "1              0      0       0  \n",
              "2              0      0       0  \n",
              "3              0      0       0  \n",
              "4              0      0       0  \n",
              "5              0      0       0  \n",
              "..           ...    ...     ...  \n",
              "142            0      0       1  \n",
              "143            0      0       1  \n",
              "144            0      0       1  \n",
              "145            0      0       1  \n",
              "146            0      0       1  \n",
              "\n",
              "[146 rows x 10 columns]"
            ],
            "text/html": [
              "\n",
              "  <div id=\"df-e94ae167-f2ac-490f-98a5-6cc68c079923\">\n",
              "    <div class=\"colab-df-container\">\n",
              "      <div>\n",
              "<style scoped>\n",
              "    .dataframe tbody tr th:only-of-type {\n",
              "        vertical-align: middle;\n",
              "    }\n",
              "\n",
              "    .dataframe tbody tr th {\n",
              "        vertical-align: top;\n",
              "    }\n",
              "\n",
              "    .dataframe thead th {\n",
              "        text-align: right;\n",
              "    }\n",
              "</style>\n",
              "<table border=\"1\" class=\"dataframe\">\n",
              "  <thead>\n",
              "    <tr style=\"text-align: right;\">\n",
              "      <th></th>\n",
              "      <th>Burundi</th>\n",
              "      <th>Djibouti</th>\n",
              "      <th>Eritrea</th>\n",
              "      <th>Ethiopia</th>\n",
              "      <th>Kenya</th>\n",
              "      <th>Rwanda</th>\n",
              "      <th>Somalia</th>\n",
              "      <th>South Sudan</th>\n",
              "      <th>Sudan</th>\n",
              "      <th>Uganda</th>\n",
              "    </tr>\n",
              "  </thead>\n",
              "  <tbody>\n",
              "    <tr>\n",
              "      <th>1</th>\n",
              "      <td>1</td>\n",
              "      <td>0</td>\n",
              "      <td>0</td>\n",
              "      <td>0</td>\n",
              "      <td>0</td>\n",
              "      <td>0</td>\n",
              "      <td>0</td>\n",
              "      <td>0</td>\n",
              "      <td>0</td>\n",
              "      <td>0</td>\n",
              "    </tr>\n",
              "    <tr>\n",
              "      <th>2</th>\n",
              "      <td>1</td>\n",
              "      <td>0</td>\n",
              "      <td>0</td>\n",
              "      <td>0</td>\n",
              "      <td>0</td>\n",
              "      <td>0</td>\n",
              "      <td>0</td>\n",
              "      <td>0</td>\n",
              "      <td>0</td>\n",
              "      <td>0</td>\n",
              "    </tr>\n",
              "    <tr>\n",
              "      <th>3</th>\n",
              "      <td>1</td>\n",
              "      <td>0</td>\n",
              "      <td>0</td>\n",
              "      <td>0</td>\n",
              "      <td>0</td>\n",
              "      <td>0</td>\n",
              "      <td>0</td>\n",
              "      <td>0</td>\n",
              "      <td>0</td>\n",
              "      <td>0</td>\n",
              "    </tr>\n",
              "    <tr>\n",
              "      <th>4</th>\n",
              "      <td>1</td>\n",
              "      <td>0</td>\n",
              "      <td>0</td>\n",
              "      <td>0</td>\n",
              "      <td>0</td>\n",
              "      <td>0</td>\n",
              "      <td>0</td>\n",
              "      <td>0</td>\n",
              "      <td>0</td>\n",
              "      <td>0</td>\n",
              "    </tr>\n",
              "    <tr>\n",
              "      <th>5</th>\n",
              "      <td>1</td>\n",
              "      <td>0</td>\n",
              "      <td>0</td>\n",
              "      <td>0</td>\n",
              "      <td>0</td>\n",
              "      <td>0</td>\n",
              "      <td>0</td>\n",
              "      <td>0</td>\n",
              "      <td>0</td>\n",
              "      <td>0</td>\n",
              "    </tr>\n",
              "    <tr>\n",
              "      <th>...</th>\n",
              "      <td>...</td>\n",
              "      <td>...</td>\n",
              "      <td>...</td>\n",
              "      <td>...</td>\n",
              "      <td>...</td>\n",
              "      <td>...</td>\n",
              "      <td>...</td>\n",
              "      <td>...</td>\n",
              "      <td>...</td>\n",
              "      <td>...</td>\n",
              "    </tr>\n",
              "    <tr>\n",
              "      <th>142</th>\n",
              "      <td>0</td>\n",
              "      <td>0</td>\n",
              "      <td>0</td>\n",
              "      <td>0</td>\n",
              "      <td>0</td>\n",
              "      <td>0</td>\n",
              "      <td>0</td>\n",
              "      <td>0</td>\n",
              "      <td>0</td>\n",
              "      <td>1</td>\n",
              "    </tr>\n",
              "    <tr>\n",
              "      <th>143</th>\n",
              "      <td>0</td>\n",
              "      <td>0</td>\n",
              "      <td>0</td>\n",
              "      <td>0</td>\n",
              "      <td>0</td>\n",
              "      <td>0</td>\n",
              "      <td>0</td>\n",
              "      <td>0</td>\n",
              "      <td>0</td>\n",
              "      <td>1</td>\n",
              "    </tr>\n",
              "    <tr>\n",
              "      <th>144</th>\n",
              "      <td>0</td>\n",
              "      <td>0</td>\n",
              "      <td>0</td>\n",
              "      <td>0</td>\n",
              "      <td>0</td>\n",
              "      <td>0</td>\n",
              "      <td>0</td>\n",
              "      <td>0</td>\n",
              "      <td>0</td>\n",
              "      <td>1</td>\n",
              "    </tr>\n",
              "    <tr>\n",
              "      <th>145</th>\n",
              "      <td>0</td>\n",
              "      <td>0</td>\n",
              "      <td>0</td>\n",
              "      <td>0</td>\n",
              "      <td>0</td>\n",
              "      <td>0</td>\n",
              "      <td>0</td>\n",
              "      <td>0</td>\n",
              "      <td>0</td>\n",
              "      <td>1</td>\n",
              "    </tr>\n",
              "    <tr>\n",
              "      <th>146</th>\n",
              "      <td>0</td>\n",
              "      <td>0</td>\n",
              "      <td>0</td>\n",
              "      <td>0</td>\n",
              "      <td>0</td>\n",
              "      <td>0</td>\n",
              "      <td>0</td>\n",
              "      <td>0</td>\n",
              "      <td>0</td>\n",
              "      <td>1</td>\n",
              "    </tr>\n",
              "  </tbody>\n",
              "</table>\n",
              "<p>146 rows × 10 columns</p>\n",
              "</div>\n",
              "      <button class=\"colab-df-convert\" onclick=\"convertToInteractive('df-e94ae167-f2ac-490f-98a5-6cc68c079923')\"\n",
              "              title=\"Convert this dataframe to an interactive table.\"\n",
              "              style=\"display:none;\">\n",
              "        \n",
              "  <svg xmlns=\"http://www.w3.org/2000/svg\" height=\"24px\"viewBox=\"0 0 24 24\"\n",
              "       width=\"24px\">\n",
              "    <path d=\"M0 0h24v24H0V0z\" fill=\"none\"/>\n",
              "    <path d=\"M18.56 5.44l.94 2.06.94-2.06 2.06-.94-2.06-.94-.94-2.06-.94 2.06-2.06.94zm-11 1L8.5 8.5l.94-2.06 2.06-.94-2.06-.94L8.5 2.5l-.94 2.06-2.06.94zm10 10l.94 2.06.94-2.06 2.06-.94-2.06-.94-.94-2.06-.94 2.06-2.06.94z\"/><path d=\"M17.41 7.96l-1.37-1.37c-.4-.4-.92-.59-1.43-.59-.52 0-1.04.2-1.43.59L10.3 9.45l-7.72 7.72c-.78.78-.78 2.05 0 2.83L4 21.41c.39.39.9.59 1.41.59.51 0 1.02-.2 1.41-.59l7.78-7.78 2.81-2.81c.8-.78.8-2.07 0-2.86zM5.41 20L4 18.59l7.72-7.72 1.47 1.35L5.41 20z\"/>\n",
              "  </svg>\n",
              "      </button>\n",
              "      \n",
              "  <style>\n",
              "    .colab-df-container {\n",
              "      display:flex;\n",
              "      flex-wrap:wrap;\n",
              "      gap: 12px;\n",
              "    }\n",
              "\n",
              "    .colab-df-convert {\n",
              "      background-color: #E8F0FE;\n",
              "      border: none;\n",
              "      border-radius: 50%;\n",
              "      cursor: pointer;\n",
              "      display: none;\n",
              "      fill: #1967D2;\n",
              "      height: 32px;\n",
              "      padding: 0 0 0 0;\n",
              "      width: 32px;\n",
              "    }\n",
              "\n",
              "    .colab-df-convert:hover {\n",
              "      background-color: #E2EBFA;\n",
              "      box-shadow: 0px 1px 2px rgba(60, 64, 67, 0.3), 0px 1px 3px 1px rgba(60, 64, 67, 0.15);\n",
              "      fill: #174EA6;\n",
              "    }\n",
              "\n",
              "    [theme=dark] .colab-df-convert {\n",
              "      background-color: #3B4455;\n",
              "      fill: #D2E3FC;\n",
              "    }\n",
              "\n",
              "    [theme=dark] .colab-df-convert:hover {\n",
              "      background-color: #434B5C;\n",
              "      box-shadow: 0px 1px 3px 1px rgba(0, 0, 0, 0.15);\n",
              "      filter: drop-shadow(0px 1px 2px rgba(0, 0, 0, 0.3));\n",
              "      fill: #FFFFFF;\n",
              "    }\n",
              "  </style>\n",
              "\n",
              "      <script>\n",
              "        const buttonEl =\n",
              "          document.querySelector('#df-e94ae167-f2ac-490f-98a5-6cc68c079923 button.colab-df-convert');\n",
              "        buttonEl.style.display =\n",
              "          google.colab.kernel.accessAllowed ? 'block' : 'none';\n",
              "\n",
              "        async function convertToInteractive(key) {\n",
              "          const element = document.querySelector('#df-e94ae167-f2ac-490f-98a5-6cc68c079923');\n",
              "          const dataTable =\n",
              "            await google.colab.kernel.invokeFunction('convertToInteractive',\n",
              "                                                     [key], {});\n",
              "          if (!dataTable) return;\n",
              "\n",
              "          const docLinkHtml = 'Like what you see? Visit the ' +\n",
              "            '<a target=\"_blank\" href=https://colab.research.google.com/notebooks/data_table.ipynb>data table notebook</a>'\n",
              "            + ' to learn more about interactive tables.';\n",
              "          element.innerHTML = '';\n",
              "          dataTable['output_type'] = 'display_data';\n",
              "          await google.colab.output.renderOutput(dataTable, element);\n",
              "          const docLink = document.createElement('div');\n",
              "          docLink.innerHTML = docLinkHtml;\n",
              "          element.appendChild(docLink);\n",
              "        }\n",
              "      </script>\n",
              "    </div>\n",
              "  </div>\n",
              "  "
            ]
          },
          "metadata": {},
          "execution_count": 23
        }
      ]
    },
    {
      "cell_type": "code",
      "source": [
        "#Do you think it is a good option? It did created 10 columns.Now the dataframe is huge.\n",
        "#Label Encoding\n",
        "\n",
        "from sklearn.preprocessing import LabelEncoder\n",
        "le = LabelEncoder()\n",
        "le.fit_transform(df_cat[\"COUNTRY\"])\n"
      ],
      "metadata": {
        "colab": {
          "base_uri": "https://localhost:8080/"
        },
        "id": "MEYOXQl3ICEI",
        "outputId": "0aef4ef8-6440-4202-c873-264c56137584"
      },
      "execution_count": null,
      "outputs": [
        {
          "output_type": "execute_result",
          "data": {
            "text/plain": [
              "array([0, 0, 0, 0, 0, 0, 0, 0, 0, 0, 0, 0, 0, 0, 0, 0, 0, 1, 1, 1, 1, 1,\n",
              "       2, 2, 2, 2, 2, 2, 3, 3, 3, 3, 3, 3, 3, 3, 3, 3, 3, 4, 4, 4, 4, 4,\n",
              "       4, 4, 4, 4, 4, 4, 4, 4, 4, 4, 4, 4, 4, 4, 4, 4, 4, 4, 4, 4, 4, 4,\n",
              "       4, 4, 4, 4, 4, 4, 4, 4, 4, 4, 4, 4, 4, 4, 4, 4, 4, 4, 4, 4, 5, 5,\n",
              "       5, 5, 5, 6, 6, 6, 6, 6, 6, 6, 6, 6, 6, 6, 6, 6, 6, 6, 6, 6, 6, 7,\n",
              "       7, 7, 7, 7, 7, 7, 7, 7, 7, 8, 8, 8, 8, 8, 8, 8, 8, 8, 8, 8, 8, 8,\n",
              "       8, 8, 8, 8, 9, 9, 9, 9, 9, 9, 9, 9, 9, 9])"
            ]
          },
          "metadata": {},
          "execution_count": 24
        }
      ]
    },
    {
      "cell_type": "code",
      "source": [
        "df_num = df.select_dtypes([\"float64\"])"
      ],
      "metadata": {
        "id": "bP5U1iMXGUUN"
      },
      "execution_count": null,
      "outputs": []
    },
    {
      "cell_type": "code",
      "source": [
        "from scipy.stats import skew"
      ],
      "metadata": {
        "id": "lJXqWM-yLiAd"
      },
      "execution_count": null,
      "outputs": []
    },
    {
      "cell_type": "code",
      "source": [
        "for col in df_num:\n",
        "    print(col)\n",
        "    print(skew(df_num[col]))\n",
        "    \n",
        "    plt.figure()\n",
        "    sns.distplot(df_num[col])\n",
        "    plt.show()"
      ],
      "metadata": {
        "colab": {
          "base_uri": "https://localhost:8080/",
          "height": 1000
        },
        "id": "jMfrFTiLLkpB",
        "outputId": "066228a8-c207-4f23-8f84-afa3030d1289"
      },
      "execution_count": null,
      "outputs": [
        {
          "output_type": "stream",
          "name": "stdout",
          "text": [
            "Physical_exposure_to_flood\n",
            "-0.8419942497886468\n"
          ]
        },
        {
          "output_type": "display_data",
          "data": {
            "text/plain": [
              "<Figure size 432x288 with 1 Axes>"
            ],
            "image/png": "[encoded data removed]"
          },
          "metadata": {
            "needs_background": "light"
          }
        },
        {
          "output_type": "stream",
          "name": "stdout",
          "text": [
            "Physical_exposure_to_drought\n",
            "-0.7703295528872788\n"
          ]
        },
        {
          "output_type": "display_data",
          "data": {
            "text/plain": [
              "<Figure size 432x288 with 1 Axes>"
            ],
            "image/png": "[encoded data removed]"
          },
          "metadata": {
            "needs_background": "light"
          }
        },
        {
          "output_type": "stream",
          "name": "stdout",
          "text": [
            "Natural\n",
            "-0.84292031003524\n"
          ]
        },
        {
          "output_type": "display_data",
          "data": {
            "text/plain": [
              "<Figure size 432x288 with 1 Axes>"
            ],
            "image/png": "[encoded data removed]"
          },
          "metadata": {
            "needs_background": "light"
          }
        },
        {
          "output_type": "stream",
          "name": "stdout",
          "text": [
            "Political_violence\n",
            "0.15382951207218798\n"
          ]
        },
        {
          "output_type": "display_data",
          "data": {
            "text/plain": [
              "<Figure size 432x288 with 1 Axes>"
            ],
            "image/png": "[encoded data removed]"
          },
          "metadata": {
            "needs_background": "light"
          }
        },
        {
          "output_type": "stream",
          "name": "stdout",
          "text": [
            "Conflict_probability\n",
            "-1.199685682689697\n"
          ]
        },
        {
          "output_type": "display_data",
          "data": {
            "text/plain": [
              "<Figure size 432x288 with 1 Axes>"
            ],
            "image/png": "[encoded data removed]"
          },
          "metadata": {
            "needs_background": "light"
          }
        },
        {
          "output_type": "stream",
          "name": "stdout",
          "text": [
            "Human\n",
            "-0.2969826440304087\n"
          ]
        },
        {
          "output_type": "display_data",
          "data": {
            "text/plain": [
              "<Figure size 432x288 with 1 Axes>"
            ],
            "image/png": "[encoded data removed]"
          },
          "metadata": {
            "needs_background": "light"
          }
        },
        {
          "output_type": "stream",
          "name": "stdout",
          "text": [
            "HAZARD\n",
            "-0.677871635376688\n"
          ]
        },
        {
          "output_type": "display_data",
          "data": {
            "text/plain": [
              "<Figure size 432x288 with 1 Axes>"
            ],
            "image/png": "[encoded data removed]"
          },
          "metadata": {
            "needs_background": "light"
          }
        },
        {
          "output_type": "stream",
          "name": "stdout",
          "text": [
            "Development_&_Deprivation\n",
            "-0.06114571408138819\n"
          ]
        },
        {
          "output_type": "display_data",
          "data": {
            "text/plain": [
              "<Figure size 432x288 with 1 Axes>"
            ],
            "image/png": "[encoded data removed]"
          },
          "metadata": {
            "needs_background": "light"
          }
        },
        {
          "output_type": "stream",
          "name": "stdout",
          "text": [
            "Inequality\n",
            "1.3800059219474934\n"
          ]
        },
        {
          "output_type": "display_data",
          "data": {
            "text/plain": [
              "<Figure size 432x288 with 1 Axes>"
            ],
            "image/png": "[encoded data removed]"
          },
          "metadata": {
            "needs_background": "light"
          }
        }
      ]
    },
    {
      "cell_type": "code",
      "source": [
        ""
      ],
      "metadata": {
        "id": "NaXGJFisHAFb"
      },
      "execution_count": null,
      "outputs": []
    },
    {
      "cell_type": "code",
      "source": [
        "# show dataset summary statistics\n",
        "df.describe()"
      ],
      "metadata": {
        "id": "CIM16XcK3xQQ",
        "colab": {
          "base_uri": "https://localhost:8080/",
          "height": 300
        },
        "outputId": "43b912b0-8d21-4770-cb89-656c1cbe5e18"
      },
      "execution_count": null,
      "outputs": [
        {
          "output_type": "execute_result",
          "data": {
            "text/plain": [
              "       Physical_exposure_to_flood  Physical_exposure_to_drought     Natural  \\\n",
              "count                  146.000000                    146.000000  146.000000   \n",
              "mean                     7.063699                      5.039726    6.594521   \n",
              "std                      3.291910                      2.141526    2.203094   \n",
              "min                      0.000000                      0.000000    0.000000   \n",
              "25%                      3.900000                      3.925000    4.425000   \n",
              "50%                      8.450000                      5.750000    7.600000   \n",
              "75%                     10.000000                      6.600000    8.400000   \n",
              "max                     10.000000                      9.300000    9.200000   \n",
              "\n",
              "       Political_violence  Conflict_probability       Human      HAZARD  \\\n",
              "count          146.000000            146.000000  146.000000  146.000000   \n",
              "mean             4.851370              7.331507    6.306849    6.673288   \n",
              "std              3.943362              2.760029    2.975432    2.305923   \n",
              "min              0.000000              0.600000    0.400000    0.600000   \n",
              "25%              0.725000              5.200000    3.600000    5.425000   \n",
              "50%              3.600000              8.400000    6.400000    7.150000   \n",
              "75%             10.000000              9.500000   10.000000    8.450000   \n",
              "max             10.000000             10.000000   10.000000    9.600000   \n",
              "\n",
              "       Development_&_Deprivation  Inequality  \n",
              "count                 146.000000  146.000000  \n",
              "mean                    7.034932    5.140000  \n",
              "std                     1.644283    2.042946  \n",
              "min                     2.800000    0.700000  \n",
              "25%                     5.600000    3.925000  \n",
              "50%                     6.600000    4.700000  \n",
              "75%                     8.800000    5.500000  \n",
              "max                     9.600000   10.000000  "
            ],
            "text/html": [
              "\n",
              "  <div id=\"df-85b03d36-163e-4770-8785-e6387b8cbfc5\">\n",
              "    <div class=\"colab-df-container\">\n",
              "      <div>\n",
              "<style scoped>\n",
              "    .dataframe tbody tr th:only-of-type {\n",
              "        vertical-align: middle;\n",
              "    }\n",
              "\n",
              "    .dataframe tbody tr th {\n",
              "        vertical-align: top;\n",
              "    }\n",
              "\n",
              "    .dataframe thead th {\n",
              "        text-align: right;\n",
              "    }\n",
              "</style>\n",
              "<table border=\"1\" class=\"dataframe\">\n",
              "  <thead>\n",
              "    <tr style=\"text-align: right;\">\n",
              "      <th></th>\n",
              "      <th>Physical_exposure_to_flood</th>\n",
              "      <th>Physical_exposure_to_drought</th>\n",
              "      <th>Natural</th>\n",
              "      <th>Political_violence</th>\n",
              "      <th>Conflict_probability</th>\n",
              "      <th>Human</th>\n",
              "      <th>HAZARD</th>\n",
              "      <th>Development_&amp;_Deprivation</th>\n",
              "      <th>Inequality</th>\n",
              "    </tr>\n",
              "  </thead>\n",
              "  <tbody>\n",
              "    <tr>\n",
              "      <th>count</th>\n",
              "      <td>146.000000</td>\n",
              "      <td>146.000000</td>\n",
              "      <td>146.000000</td>\n",
              "      <td>146.000000</td>\n",
              "      <td>146.000000</td>\n",
              "      <td>146.000000</td>\n",
              "      <td>146.000000</td>\n",
              "      <td>146.000000</td>\n",
              "      <td>146.000000</td>\n",
              "    </tr>\n",
              "    <tr>\n",
              "      <th>mean</th>\n",
              "      <td>7.063699</td>\n",
              "      <td>5.039726</td>\n",
              "      <td>6.594521</td>\n",
              "      <td>4.851370</td>\n",
              "      <td>7.331507</td>\n",
              "      <td>6.306849</td>\n",
              "      <td>6.673288</td>\n",
              "      <td>7.034932</td>\n",
              "      <td>5.140000</td>\n",
              "    </tr>\n",
              "    <tr>\n",
              "      <th>std</th>\n",
              "      <td>3.291910</td>\n",
              "      <td>2.141526</td>\n",
              "      <td>2.203094</td>\n",
              "      <td>3.943362</td>\n",
              "      <td>2.760029</td>\n",
              "      <td>2.975432</td>\n",
              "      <td>2.305923</td>\n",
              "      <td>1.644283</td>\n",
              "      <td>2.042946</td>\n",
              "    </tr>\n",
              "    <tr>\n",
              "      <th>min</th>\n",
              "      <td>0.000000</td>\n",
              "      <td>0.000000</td>\n",
              "      <td>0.000000</td>\n",
              "      <td>0.000000</td>\n",
              "      <td>0.600000</td>\n",
              "      <td>0.400000</td>\n",
              "      <td>0.600000</td>\n",
              "      <td>2.800000</td>\n",
              "      <td>0.700000</td>\n",
              "    </tr>\n",
              "    <tr>\n",
              "      <th>25%</th>\n",
              "      <td>3.900000</td>\n",
              "      <td>3.925000</td>\n",
              "      <td>4.425000</td>\n",
              "      <td>0.725000</td>\n",
              "      <td>5.200000</td>\n",
              "      <td>3.600000</td>\n",
              "      <td>5.425000</td>\n",
              "      <td>5.600000</td>\n",
              "      <td>3.925000</td>\n",
              "    </tr>\n",
              "    <tr>\n",
              "      <th>50%</th>\n",
              "      <td>8.450000</td>\n",
              "      <td>5.750000</td>\n",
              "      <td>7.600000</td>\n",
              "      <td>3.600000</td>\n",
              "      <td>8.400000</td>\n",
              "      <td>6.400000</td>\n",
              "      <td>7.150000</td>\n",
              "      <td>6.600000</td>\n",
              "      <td>4.700000</td>\n",
              "    </tr>\n",
              "    <tr>\n",
              "      <th>75%</th>\n",
              "      <td>10.000000</td>\n",
              "      <td>6.600000</td>\n",
              "      <td>8.400000</td>\n",
              "      <td>10.000000</td>\n",
              "      <td>9.500000</td>\n",
              "      <td>10.000000</td>\n",
              "      <td>8.450000</td>\n",
              "      <td>8.800000</td>\n",
              "      <td>5.500000</td>\n",
              "    </tr>\n",
              "    <tr>\n",
              "      <th>max</th>\n",
              "      <td>10.000000</td>\n",
              "      <td>9.300000</td>\n",
              "      <td>9.200000</td>\n",
              "      <td>10.000000</td>\n",
              "      <td>10.000000</td>\n",
              "      <td>10.000000</td>\n",
              "      <td>9.600000</td>\n",
              "      <td>9.600000</td>\n",
              "      <td>10.000000</td>\n",
              "    </tr>\n",
              "  </tbody>\n",
              "</table>\n",
              "</div>\n",
              "      <button class=\"colab-df-convert\" onclick=\"convertToInteractive('df-85b03d36-163e-4770-8785-e6387b8cbfc5')\"\n",
              "              title=\"Convert this dataframe to an interactive table.\"\n",
              "              style=\"display:none;\">\n",
              "        \n",
              "  <svg xmlns=\"http://www.w3.org/2000/svg\" height=\"24px\"viewBox=\"0 0 24 24\"\n",
              "       width=\"24px\">\n",
              "    <path d=\"M0 0h24v24H0V0z\" fill=\"none\"/>\n",
              "    <path d=\"M18.56 5.44l.94 2.06.94-2.06 2.06-.94-2.06-.94-.94-2.06-.94 2.06-2.06.94zm-11 1L8.5 8.5l.94-2.06 2.06-.94-2.06-.94L8.5 2.5l-.94 2.06-2.06.94zm10 10l.94 2.06.94-2.06 2.06-.94-2.06-.94-.94-2.06-.94 2.06-2.06.94z\"/><path d=\"M17.41 7.96l-1.37-1.37c-.4-.4-.92-.59-1.43-.59-.52 0-1.04.2-1.43.59L10.3 9.45l-7.72 7.72c-.78.78-.78 2.05 0 2.83L4 21.41c.39.39.9.59 1.41.59.51 0 1.02-.2 1.41-.59l7.78-7.78 2.81-2.81c.8-.78.8-2.07 0-2.86zM5.41 20L4 18.59l7.72-7.72 1.47 1.35L5.41 20z\"/>\n",
              "  </svg>\n",
              "      </button>\n",
              "      \n",
              "  <style>\n",
              "    .colab-df-container {\n",
              "      display:flex;\n",
              "      flex-wrap:wrap;\n",
              "      gap: 12px;\n",
              "    }\n",
              "\n",
              "    .colab-df-convert {\n",
              "      background-color: #E8F0FE;\n",
              "      border: none;\n",
              "      border-radius: 50%;\n",
              "      cursor: pointer;\n",
              "      display: none;\n",
              "      fill: #1967D2;\n",
              "      height: 32px;\n",
              "      padding: 0 0 0 0;\n",
              "      width: 32px;\n",
              "    }\n",
              "\n",
              "    .colab-df-convert:hover {\n",
              "      background-color: #E2EBFA;\n",
              "      box-shadow: 0px 1px 2px rgba(60, 64, 67, 0.3), 0px 1px 3px 1px rgba(60, 64, 67, 0.15);\n",
              "      fill: #174EA6;\n",
              "    }\n",
              "\n",
              "    [theme=dark] .colab-df-convert {\n",
              "      background-color: #3B4455;\n",
              "      fill: #D2E3FC;\n",
              "    }\n",
              "\n",
              "    [theme=dark] .colab-df-convert:hover {\n",
              "      background-color: #434B5C;\n",
              "      box-shadow: 0px 1px 3px 1px rgba(0, 0, 0, 0.15);\n",
              "      filter: drop-shadow(0px 1px 2px rgba(0, 0, 0, 0.3));\n",
              "      fill: #FFFFFF;\n",
              "    }\n",
              "  </style>\n",
              "\n",
              "      <script>\n",
              "        const buttonEl =\n",
              "          document.querySelector('#df-85b03d36-163e-4770-8785-e6387b8cbfc5 button.colab-df-convert');\n",
              "        buttonEl.style.display =\n",
              "          google.colab.kernel.accessAllowed ? 'block' : 'none';\n",
              "\n",
              "        async function convertToInteractive(key) {\n",
              "          const element = document.querySelector('#df-85b03d36-163e-4770-8785-e6387b8cbfc5');\n",
              "          const dataTable =\n",
              "            await google.colab.kernel.invokeFunction('convertToInteractive',\n",
              "                                                     [key], {});\n",
              "          if (!dataTable) return;\n",
              "\n",
              "          const docLinkHtml = 'Like what you see? Visit the ' +\n",
              "            '<a target=\"_blank\" href=https://colab.research.google.com/notebooks/data_table.ipynb>data table notebook</a>'\n",
              "            + ' to learn more about interactive tables.';\n",
              "          element.innerHTML = '';\n",
              "          dataTable['output_type'] = 'display_data';\n",
              "          await google.colab.output.renderOutput(dataTable, element);\n",
              "          const docLink = document.createElement('div');\n",
              "          docLink.innerHTML = docLinkHtml;\n",
              "          element.appendChild(docLink);\n",
              "        }\n",
              "      </script>\n",
              "    </div>\n",
              "  </div>\n",
              "  "
            ]
          },
          "metadata": {},
          "execution_count": 28
        }
      ]
    },
    {
      "cell_type": "code",
      "source": [
        "# view correlation matrix for the variables in the dataset\n",
        "corrMatrix = df.corr()"
      ],
      "metadata": {
        "id": "VkpZB5Ed3y-S"
      },
      "execution_count": null,
      "outputs": []
    },
    {
      "cell_type": "code",
      "source": [
        "# show visual representation of the correlation matrix\n",
        "plt.rcParams.update({'font.size': 12,'figure.figsize':(15,15)})\n",
        "f3 = sns.heatmap(corrMatrix, annot=True)\n",
        "plt.show() # show plot"
      ],
      "metadata": {
        "id": "nzu6in-z30et",
        "colab": {
          "base_uri": "https://localhost:8080/",
          "height": 1000
        },
        "outputId": "1e5771fc-4360-4c82-e43f-77f6f6b4ca00"
      },
      "execution_count": null,
      "outputs": [
        {
          "output_type": "display_data",
          "data": {
            "text/plain": [
              "<Figure size 1080x1080 with 2 Axes>"
            ],
            "image/png": "[encoded data removed]"
          },
          "metadata": {
            "needs_background": "light"
          }
        }
      ]
    },
    {
      "cell_type": "code",
      "source": [
        "df_new = pd.concat([df_num , df_cat], axis = 1)\n",
        "df_new.head()"
      ],
      "metadata": {
        "colab": {
          "base_uri": "https://localhost:8080/",
          "height": 206
        },
        "id": "MCcfCm7bOKv1",
        "outputId": "d707889a-d154-46c0-b61b-dfe7caa64252"
      },
      "execution_count": null,
      "outputs": [
        {
          "output_type": "execute_result",
          "data": {
            "text/plain": [
              "   Physical_exposure_to_flood  Physical_exposure_to_drought  Natural  \\\n",
              "1                         3.9                           4.8      4.3   \n",
              "2                         3.9                           4.8      4.3   \n",
              "3                         3.9                           4.8      4.3   \n",
              "4                         3.9                           4.8      4.3   \n",
              "5                         3.9                           4.8      4.3   \n",
              "\n",
              "   Political_violence  Conflict_probability  Human  HAZARD  \\\n",
              "1                 3.6                   4.7    3.3     3.8   \n",
              "2                 3.6                   4.7    3.3     3.8   \n",
              "3                 3.6                   4.7    3.3     3.8   \n",
              "4                 0.3                   4.7    3.3     3.8   \n",
              "5                 0.0                   4.7    3.3     3.8   \n",
              "\n",
              "   Development_&_Deprivation  Inequality  COUNTRY  \n",
              "1                        8.5         4.0  Burundi  \n",
              "2                        6.5         3.4  Burundi  \n",
              "3                        8.5         4.0  Burundi  \n",
              "4                        7.9         3.9  Burundi  \n",
              "5                        8.3         3.9  Burundi  "
            ],
            "text/html": [
              "\n",
              "  <div id=\"df-77cca413-502c-420e-bf4e-cdddccdfd0bb\">\n",
              "    <div class=\"colab-df-container\">\n",
              "      <div>\n",
              "<style scoped>\n",
              "    .dataframe tbody tr th:only-of-type {\n",
              "        vertical-align: middle;\n",
              "    }\n",
              "\n",
              "    .dataframe tbody tr th {\n",
              "        vertical-align: top;\n",
              "    }\n",
              "\n",
              "    .dataframe thead th {\n",
              "        text-align: right;\n",
              "    }\n",
              "</style>\n",
              "<table border=\"1\" class=\"dataframe\">\n",
              "  <thead>\n",
              "    <tr style=\"text-align: right;\">\n",
              "      <th></th>\n",
              "      <th>Physical_exposure_to_flood</th>\n",
              "      <th>Physical_exposure_to_drought</th>\n",
              "      <th>Natural</th>\n",
              "      <th>Political_violence</th>\n",
              "      <th>Conflict_probability</th>\n",
              "      <th>Human</th>\n",
              "      <th>HAZARD</th>\n",
              "      <th>Development_&amp;_Deprivation</th>\n",
              "      <th>Inequality</th>\n",
              "      <th>COUNTRY</th>\n",
              "    </tr>\n",
              "  </thead>\n",
              "  <tbody>\n",
              "    <tr>\n",
              "      <th>1</th>\n",
              "      <td>3.9</td>\n",
              "      <td>4.8</td>\n",
              "      <td>4.3</td>\n",
              "      <td>3.6</td>\n",
              "      <td>4.7</td>\n",
              "      <td>3.3</td>\n",
              "      <td>3.8</td>\n",
              "      <td>8.5</td>\n",
              "      <td>4.0</td>\n",
              "      <td>Burundi</td>\n",
              "    </tr>\n",
              "    <tr>\n",
              "      <th>2</th>\n",
              "      <td>3.9</td>\n",
              "      <td>4.8</td>\n",
              "      <td>4.3</td>\n",
              "      <td>3.6</td>\n",
              "      <td>4.7</td>\n",
              "      <td>3.3</td>\n",
              "      <td>3.8</td>\n",
              "      <td>6.5</td>\n",
              "      <td>3.4</td>\n",
              "      <td>Burundi</td>\n",
              "    </tr>\n",
              "    <tr>\n",
              "      <th>3</th>\n",
              "      <td>3.9</td>\n",
              "      <td>4.8</td>\n",
              "      <td>4.3</td>\n",
              "      <td>3.6</td>\n",
              "      <td>4.7</td>\n",
              "      <td>3.3</td>\n",
              "      <td>3.8</td>\n",
              "      <td>8.5</td>\n",
              "      <td>4.0</td>\n",
              "      <td>Burundi</td>\n",
              "    </tr>\n",
              "    <tr>\n",
              "      <th>4</th>\n",
              "      <td>3.9</td>\n",
              "      <td>4.8</td>\n",
              "      <td>4.3</td>\n",
              "      <td>0.3</td>\n",
              "      <td>4.7</td>\n",
              "      <td>3.3</td>\n",
              "      <td>3.8</td>\n",
              "      <td>7.9</td>\n",
              "      <td>3.9</td>\n",
              "      <td>Burundi</td>\n",
              "    </tr>\n",
              "    <tr>\n",
              "      <th>5</th>\n",
              "      <td>3.9</td>\n",
              "      <td>4.8</td>\n",
              "      <td>4.3</td>\n",
              "      <td>0.0</td>\n",
              "      <td>4.7</td>\n",
              "      <td>3.3</td>\n",
              "      <td>3.8</td>\n",
              "      <td>8.3</td>\n",
              "      <td>3.9</td>\n",
              "      <td>Burundi</td>\n",
              "    </tr>\n",
              "  </tbody>\n",
              "</table>\n",
              "</div>\n",
              "      <button class=\"colab-df-convert\" onclick=\"convertToInteractive('df-77cca413-502c-420e-bf4e-cdddccdfd0bb')\"\n",
              "              title=\"Convert this dataframe to an interactive table.\"\n",
              "              style=\"display:none;\">\n",
              "        \n",
              "  <svg xmlns=\"http://www.w3.org/2000/svg\" height=\"24px\"viewBox=\"0 0 24 24\"\n",
              "       width=\"24px\">\n",
              "    <path d=\"M0 0h24v24H0V0z\" fill=\"none\"/>\n",
              "    <path d=\"M18.56 5.44l.94 2.06.94-2.06 2.06-.94-2.06-.94-.94-2.06-.94 2.06-2.06.94zm-11 1L8.5 8.5l.94-2.06 2.06-.94-2.06-.94L8.5 2.5l-.94 2.06-2.06.94zm10 10l.94 2.06.94-2.06 2.06-.94-2.06-.94-.94-2.06-.94 2.06-2.06.94z\"/><path d=\"M17.41 7.96l-1.37-1.37c-.4-.4-.92-.59-1.43-.59-.52 0-1.04.2-1.43.59L10.3 9.45l-7.72 7.72c-.78.78-.78 2.05 0 2.83L4 21.41c.39.39.9.59 1.41.59.51 0 1.02-.2 1.41-.59l7.78-7.78 2.81-2.81c.8-.78.8-2.07 0-2.86zM5.41 20L4 18.59l7.72-7.72 1.47 1.35L5.41 20z\"/>\n",
              "  </svg>\n",
              "      </button>\n",
              "      \n",
              "  <style>\n",
              "    .colab-df-container {\n",
              "      display:flex;\n",
              "      flex-wrap:wrap;\n",
              "      gap: 12px;\n",
              "    }\n",
              "\n",
              "    .colab-df-convert {\n",
              "      background-color: #E8F0FE;\n",
              "      border: none;\n",
              "      border-radius: 50%;\n",
              "      cursor: pointer;\n",
              "      display: none;\n",
              "      fill: #1967D2;\n",
              "      height: 32px;\n",
              "      padding: 0 0 0 0;\n",
              "      width: 32px;\n",
              "    }\n",
              "\n",
              "    .colab-df-convert:hover {\n",
              "      background-color: #E2EBFA;\n",
              "      box-shadow: 0px 1px 2px rgba(60, 64, 67, 0.3), 0px 1px 3px 1px rgba(60, 64, 67, 0.15);\n",
              "      fill: #174EA6;\n",
              "    }\n",
              "\n",
              "    [theme=dark] .colab-df-convert {\n",
              "      background-color: #3B4455;\n",
              "      fill: #D2E3FC;\n",
              "    }\n",
              "\n",
              "    [theme=dark] .colab-df-convert:hover {\n",
              "      background-color: #434B5C;\n",
              "      box-shadow: 0px 1px 3px 1px rgba(0, 0, 0, 0.15);\n",
              "      filter: drop-shadow(0px 1px 2px rgba(0, 0, 0, 0.3));\n",
              "      fill: #FFFFFF;\n",
              "    }\n",
              "  </style>\n",
              "\n",
              "      <script>\n",
              "        const buttonEl =\n",
              "          document.querySelector('#df-77cca413-502c-420e-bf4e-cdddccdfd0bb button.colab-df-convert');\n",
              "        buttonEl.style.display =\n",
              "          google.colab.kernel.accessAllowed ? 'block' : 'none';\n",
              "\n",
              "        async function convertToInteractive(key) {\n",
              "          const element = document.querySelector('#df-77cca413-502c-420e-bf4e-cdddccdfd0bb');\n",
              "          const dataTable =\n",
              "            await google.colab.kernel.invokeFunction('convertToInteractive',\n",
              "                                                     [key], {});\n",
              "          if (!dataTable) return;\n",
              "\n",
              "          const docLinkHtml = 'Like what you see? Visit the ' +\n",
              "            '<a target=\"_blank\" href=https://colab.research.google.com/notebooks/data_table.ipynb>data table notebook</a>'\n",
              "            + ' to learn more about interactive tables.';\n",
              "          element.innerHTML = '';\n",
              "          dataTable['output_type'] = 'display_data';\n",
              "          await google.colab.output.renderOutput(dataTable, element);\n",
              "          const docLink = document.createElement('div');\n",
              "          docLink.innerHTML = docLinkHtml;\n",
              "          element.appendChild(docLink);\n",
              "        }\n",
              "      </script>\n",
              "    </div>\n",
              "  </div>\n",
              "  "
            ]
          },
          "metadata": {},
          "execution_count": 31
        }
      ]
    },
    {
      "cell_type": "markdown",
      "source": [
        "# Trees"
      ],
      "metadata": {
        "id": "HUhtYbnzf50E"
      }
    },
    {
      "cell_type": "code",
      "source": [
        "import pandas\n",
        "from sklearn import tree\n",
        "import pydotplus\n",
        "from sklearn.tree import DecisionTreeClassifier\n",
        "import matplotlib.pyplot as plt\n",
        "import matplotlib.image as pltimg\n",
        "\n",
        "print(df)"
      ],
      "metadata": {
        "id": "jH2I2VBof-Uy"
      },
      "execution_count": null,
      "outputs": []
    },
    {
      "cell_type": "code",
      "source": [
        "d = {'Burundi': 0, 'Djibouti': 1, 'Eritrea': 2, 'Ethiopia': 3, 'Kenya': 4, 'Rwanda': 5, 'Somalia': 6, 'South Sudan': 7, 'Sudan': 8, 'Uganda': 9}\n",
        "df['COUNTRY'] = df['COUNTRY'].map(d)"
      ],
      "metadata": {
        "id": "UNGskSdOiaEF"
      },
      "execution_count": null,
      "outputs": []
    },
    {
      "cell_type": "code",
      "source": [
        "features = ['COUNTRY','Physical_exposure_to_flood','Physical_exposure_to_drought','Natural','Political_violence','Conflict_probability','Human','HAZARD','Development_&_Deprivation']\n",
        "\n",
        "X = df[features]\n",
        "y = df['COUNTRY']"
      ],
      "metadata": {
        "id": "t6hTN5BDjmSZ"
      },
      "execution_count": null,
      "outputs": []
    },
    {
      "cell_type": "code",
      "source": [
        "dtree = DecisionTreeClassifier()\n",
        "dtree = dtree.fit(X, y)\n",
        "data = tree.export_graphviz(dtree, out_file=None, feature_names=features)\n",
        "graph = pydotplus.graph_from_dot_data(data)\n",
        "graph.write_png('mydecisiontree.png')\n",
        "\n",
        "img=pltimg.imread('mydecisiontree.png')\n",
        "imgplot = plt.imshow(img)\n",
        "plt.show()"
      ],
      "metadata": {
        "id": "HFVX4Vg8jqQ6",
        "colab": {
          "base_uri": "https://localhost:8080/",
          "height": 353
        },
        "outputId": "d07c3187-a8b1-4684-d5a5-0219b6ce441a"
      },
      "execution_count": null,
      "outputs": [
        {
          "output_type": "display_data",
          "data": {
            "text/plain": [
              "<Figure size 1080x1080 with 1 Axes>"
            ],
            "image/png": "[encoded data removed]"
          },
          "metadata": {
            "needs_background": "light"
          }
        }
      ]
    },
    {
      "cell_type": "markdown",
      "source": [
        "# Feature"
      ],
      "metadata": {
        "id": "MqmbDcD40HJu"
      }
    },
    {
      "cell_type": "code",
      "source": [
        "#we now do basic regression\n",
        "from sklearn.model_selection import train_test_split\n",
        "from sklearn.linear_model import LinearRegression\n",
        "from sklearn.metrics import r2_score, mean_squared_error\n",
        "\n",
        "#choose some columns for our regression model\n",
        "call = df[['Physical_exposure_to_drought','Physical_exposure_to_flood','Political_violence','HAZARD']].copy()\n",
        "call.head()"
      ],
      "metadata": {
        "colab": {
          "base_uri": "https://localhost:8080/"
        },
        "id": "kexFDaEt4Vqp",
        "outputId": "63f6cd4e-74e1-4e90-fb27-a043a1012cfa"
      },
      "execution_count": null,
      "outputs": [
        {
          "output_type": "execute_result",
          "data": {
            "text/plain": [
              "   Physical_exposure_to_drought  Physical_exposure_to_flood  \\\n",
              "1                           4.8                         3.9   \n",
              "2                           4.8                         3.9   \n",
              "3                           4.8                         3.9   \n",
              "4                           4.8                         3.9   \n",
              "5                           4.8                         3.9   \n",
              "\n",
              "   Political_violence  HAZARD  \n",
              "1                 3.6     3.8  \n",
              "2                 3.6     3.8  \n",
              "3                 3.6     3.8  \n",
              "4                 0.3     3.8  \n",
              "5                 0.0     3.8  "
            ],
            "text/html": [
              "\n",
              "  <div id=\"df-dd371678-695c-4158-91ba-a341ec551588\">\n",
              "    <div class=\"colab-df-container\">\n",
              "      <div>\n",
              "<style scoped>\n",
              "    .dataframe tbody tr th:only-of-type {\n",
              "        vertical-align: middle;\n",
              "    }\n",
              "\n",
              "    .dataframe tbody tr th {\n",
              "        vertical-align: top;\n",
              "    }\n",
              "\n",
              "    .dataframe thead th {\n",
              "        text-align: right;\n",
              "    }\n",
              "</style>\n",
              "<table border=\"1\" class=\"dataframe\">\n",
              "  <thead>\n",
              "    <tr style=\"text-align: right;\">\n",
              "      <th></th>\n",
              "      <th>Physical_exposure_to_drought</th>\n",
              "      <th>Physical_exposure_to_flood</th>\n",
              "      <th>Political_violence</th>\n",
              "      <th>HAZARD</th>\n",
              "    </tr>\n",
              "  </thead>\n",
              "  <tbody>\n",
              "    <tr>\n",
              "      <th>1</th>\n",
              "      <td>4.8</td>\n",
              "      <td>3.9</td>\n",
              "      <td>3.6</td>\n",
              "      <td>3.8</td>\n",
              "    </tr>\n",
              "    <tr>\n",
              "      <th>2</th>\n",
              "      <td>4.8</td>\n",
              "      <td>3.9</td>\n",
              "      <td>3.6</td>\n",
              "      <td>3.8</td>\n",
              "    </tr>\n",
              "    <tr>\n",
              "      <th>3</th>\n",
              "      <td>4.8</td>\n",
              "      <td>3.9</td>\n",
              "      <td>3.6</td>\n",
              "      <td>3.8</td>\n",
              "    </tr>\n",
              "    <tr>\n",
              "      <th>4</th>\n",
              "      <td>4.8</td>\n",
              "      <td>3.9</td>\n",
              "      <td>0.3</td>\n",
              "      <td>3.8</td>\n",
              "    </tr>\n",
              "    <tr>\n",
              "      <th>5</th>\n",
              "      <td>4.8</td>\n",
              "      <td>3.9</td>\n",
              "      <td>0.0</td>\n",
              "      <td>3.8</td>\n",
              "    </tr>\n",
              "  </tbody>\n",
              "</table>\n",
              "</div>\n",
              "      <button class=\"colab-df-convert\" onclick=\"convertToInteractive('df-dd371678-695c-4158-91ba-a341ec551588')\"\n",
              "              title=\"Convert this dataframe to an interactive table.\"\n",
              "              style=\"display:none;\">\n",
              "        \n",
              "  <svg xmlns=\"http://www.w3.org/2000/svg\" height=\"24px\"viewBox=\"0 0 24 24\"\n",
              "       width=\"24px\">\n",
              "    <path d=\"M0 0h24v24H0V0z\" fill=\"none\"/>\n",
              "    <path d=\"M18.56 5.44l.94 2.06.94-2.06 2.06-.94-2.06-.94-.94-2.06-.94 2.06-2.06.94zm-11 1L8.5 8.5l.94-2.06 2.06-.94-2.06-.94L8.5 2.5l-.94 2.06-2.06.94zm10 10l.94 2.06.94-2.06 2.06-.94-2.06-.94-.94-2.06-.94 2.06-2.06.94z\"/><path d=\"M17.41 7.96l-1.37-1.37c-.4-.4-.92-.59-1.43-.59-.52 0-1.04.2-1.43.59L10.3 9.45l-7.72 7.72c-.78.78-.78 2.05 0 2.83L4 21.41c.39.39.9.59 1.41.59.51 0 1.02-.2 1.41-.59l7.78-7.78 2.81-2.81c.8-.78.8-2.07 0-2.86zM5.41 20L4 18.59l7.72-7.72 1.47 1.35L5.41 20z\"/>\n",
              "  </svg>\n",
              "      </button>\n",
              "      \n",
              "  <style>\n",
              "    .colab-df-container {\n",
              "      display:flex;\n",
              "      flex-wrap:wrap;\n",
              "      gap: 12px;\n",
              "    }\n",
              "\n",
              "    .colab-df-convert {\n",
              "      background-color: #E8F0FE;\n",
              "      border: none;\n",
              "      border-radius: 50%;\n",
              "      cursor: pointer;\n",
              "      display: none;\n",
              "      fill: #1967D2;\n",
              "      height: 32px;\n",
              "      padding: 0 0 0 0;\n",
              "      width: 32px;\n",
              "    }\n",
              "\n",
              "    .colab-df-convert:hover {\n",
              "      background-color: #E2EBFA;\n",
              "      box-shadow: 0px 1px 2px rgba(60, 64, 67, 0.3), 0px 1px 3px 1px rgba(60, 64, 67, 0.15);\n",
              "      fill: #174EA6;\n",
              "    }\n",
              "\n",
              "    [theme=dark] .colab-df-convert {\n",
              "      background-color: #3B4455;\n",
              "      fill: #D2E3FC;\n",
              "    }\n",
              "\n",
              "    [theme=dark] .colab-df-convert:hover {\n",
              "      background-color: #434B5C;\n",
              "      box-shadow: 0px 1px 3px 1px rgba(0, 0, 0, 0.15);\n",
              "      filter: drop-shadow(0px 1px 2px rgba(0, 0, 0, 0.3));\n",
              "      fill: #FFFFFF;\n",
              "    }\n",
              "  </style>\n",
              "\n",
              "      <script>\n",
              "        const buttonEl =\n",
              "          document.querySelector('#df-dd371678-695c-4158-91ba-a341ec551588 button.colab-df-convert');\n",
              "        buttonEl.style.display =\n",
              "          google.colab.kernel.accessAllowed ? 'block' : 'none';\n",
              "\n",
              "        async function convertToInteractive(key) {\n",
              "          const element = document.querySelector('#df-dd371678-695c-4158-91ba-a341ec551588');\n",
              "          const dataTable =\n",
              "            await google.colab.kernel.invokeFunction('convertToInteractive',\n",
              "                                                     [key], {});\n",
              "          if (!dataTable) return;\n",
              "\n",
              "          const docLinkHtml = 'Like what you see? Visit the ' +\n",
              "            '<a target=\"_blank\" href=https://colab.research.google.com/notebooks/data_table.ipynb>data table notebook</a>'\n",
              "            + ' to learn more about interactive tables.';\n",
              "          element.innerHTML = '';\n",
              "          dataTable['output_type'] = 'display_data';\n",
              "          await google.colab.output.renderOutput(dataTable, element);\n",
              "          const docLink = document.createElement('div');\n",
              "          docLink.innerHTML = docLinkHtml;\n",
              "          element.appendChild(docLink);\n",
              "        }\n",
              "      </script>\n",
              "    </div>\n",
              "  </div>\n",
              "  "
            ]
          },
          "metadata": {},
          "execution_count": 36
        }
      ]
    },
    {
      "cell_type": "code",
      "source": [
        "#we cannot use INCIDENT_TIME unless we change the format of it\n",
        "#we assign unique identifiers\n",
        "#it 'looks' like it is ordered now, which may or may not be true\n",
        "from sklearn.preprocessing import LabelEncoder as le \n",
        "\n",
        "label = le()\n",
        "call['Physical_exposure_to_drought'] = label.fit_transform(call['Physical_exposure_to_drought'])\n",
        "call.head()"
      ],
      "metadata": {
        "colab": {
          "base_uri": "https://localhost:8080/"
        },
        "id": "tLnERmvp4k0y",
        "outputId": "a87272be-a89a-44d3-ec49-24405d78378e"
      },
      "execution_count": null,
      "outputs": [
        {
          "output_type": "execute_result",
          "data": {
            "text/plain": [
              "   Physical_exposure_to_drought  Physical_exposure_to_flood  \\\n",
              "1                            28                         3.9   \n",
              "2                            28                         3.9   \n",
              "3                            28                         3.9   \n",
              "4                            28                         3.9   \n",
              "5                            28                         3.9   \n",
              "\n",
              "   Political_violence  HAZARD  \n",
              "1                 3.6     3.8  \n",
              "2                 3.6     3.8  \n",
              "3                 3.6     3.8  \n",
              "4                 0.3     3.8  \n",
              "5                 0.0     3.8  "
            ],
            "text/html": [
              "\n",
              "  <div id=\"df-8a77ea09-0d32-439b-849a-24227b3c700a\">\n",
              "    <div class=\"colab-df-container\">\n",
              "      <div>\n",
              "<style scoped>\n",
              "    .dataframe tbody tr th:only-of-type {\n",
              "        vertical-align: middle;\n",
              "    }\n",
              "\n",
              "    .dataframe tbody tr th {\n",
              "        vertical-align: top;\n",
              "    }\n",
              "\n",
              "    .dataframe thead th {\n",
              "        text-align: right;\n",
              "    }\n",
              "</style>\n",
              "<table border=\"1\" class=\"dataframe\">\n",
              "  <thead>\n",
              "    <tr style=\"text-align: right;\">\n",
              "      <th></th>\n",
              "      <th>Physical_exposure_to_drought</th>\n",
              "      <th>Physical_exposure_to_flood</th>\n",
              "      <th>Political_violence</th>\n",
              "      <th>HAZARD</th>\n",
              "    </tr>\n",
              "  </thead>\n",
              "  <tbody>\n",
              "    <tr>\n",
              "      <th>1</th>\n",
              "      <td>28</td>\n",
              "      <td>3.9</td>\n",
              "      <td>3.6</td>\n",
              "      <td>3.8</td>\n",
              "    </tr>\n",
              "    <tr>\n",
              "      <th>2</th>\n",
              "      <td>28</td>\n",
              "      <td>3.9</td>\n",
              "      <td>3.6</td>\n",
              "      <td>3.8</td>\n",
              "    </tr>\n",
              "    <tr>\n",
              "      <th>3</th>\n",
              "      <td>28</td>\n",
              "      <td>3.9</td>\n",
              "      <td>3.6</td>\n",
              "      <td>3.8</td>\n",
              "    </tr>\n",
              "    <tr>\n",
              "      <th>4</th>\n",
              "      <td>28</td>\n",
              "      <td>3.9</td>\n",
              "      <td>0.3</td>\n",
              "      <td>3.8</td>\n",
              "    </tr>\n",
              "    <tr>\n",
              "      <th>5</th>\n",
              "      <td>28</td>\n",
              "      <td>3.9</td>\n",
              "      <td>0.0</td>\n",
              "      <td>3.8</td>\n",
              "    </tr>\n",
              "  </tbody>\n",
              "</table>\n",
              "</div>\n",
              "      <button class=\"colab-df-convert\" onclick=\"convertToInteractive('df-8a77ea09-0d32-439b-849a-24227b3c700a')\"\n",
              "              title=\"Convert this dataframe to an interactive table.\"\n",
              "              style=\"display:none;\">\n",
              "        \n",
              "  <svg xmlns=\"http://www.w3.org/2000/svg\" height=\"24px\"viewBox=\"0 0 24 24\"\n",
              "       width=\"24px\">\n",
              "    <path d=\"M0 0h24v24H0V0z\" fill=\"none\"/>\n",
              "    <path d=\"M18.56 5.44l.94 2.06.94-2.06 2.06-.94-2.06-.94-.94-2.06-.94 2.06-2.06.94zm-11 1L8.5 8.5l.94-2.06 2.06-.94-2.06-.94L8.5 2.5l-.94 2.06-2.06.94zm10 10l.94 2.06.94-2.06 2.06-.94-2.06-.94-.94-2.06-.94 2.06-2.06.94z\"/><path d=\"M17.41 7.96l-1.37-1.37c-.4-.4-.92-.59-1.43-.59-.52 0-1.04.2-1.43.59L10.3 9.45l-7.72 7.72c-.78.78-.78 2.05 0 2.83L4 21.41c.39.39.9.59 1.41.59.51 0 1.02-.2 1.41-.59l7.78-7.78 2.81-2.81c.8-.78.8-2.07 0-2.86zM5.41 20L4 18.59l7.72-7.72 1.47 1.35L5.41 20z\"/>\n",
              "  </svg>\n",
              "      </button>\n",
              "      \n",
              "  <style>\n",
              "    .colab-df-container {\n",
              "      display:flex;\n",
              "      flex-wrap:wrap;\n",
              "      gap: 12px;\n",
              "    }\n",
              "\n",
              "    .colab-df-convert {\n",
              "      background-color: #E8F0FE;\n",
              "      border: none;\n",
              "      border-radius: 50%;\n",
              "      cursor: pointer;\n",
              "      display: none;\n",
              "      fill: #1967D2;\n",
              "      height: 32px;\n",
              "      padding: 0 0 0 0;\n",
              "      width: 32px;\n",
              "    }\n",
              "\n",
              "    .colab-df-convert:hover {\n",
              "      background-color: #E2EBFA;\n",
              "      box-shadow: 0px 1px 2px rgba(60, 64, 67, 0.3), 0px 1px 3px 1px rgba(60, 64, 67, 0.15);\n",
              "      fill: #174EA6;\n",
              "    }\n",
              "\n",
              "    [theme=dark] .colab-df-convert {\n",
              "      background-color: #3B4455;\n",
              "      fill: #D2E3FC;\n",
              "    }\n",
              "\n",
              "    [theme=dark] .colab-df-convert:hover {\n",
              "      background-color: #434B5C;\n",
              "      box-shadow: 0px 1px 3px 1px rgba(0, 0, 0, 0.15);\n",
              "      filter: drop-shadow(0px 1px 2px rgba(0, 0, 0, 0.3));\n",
              "      fill: #FFFFFF;\n",
              "    }\n",
              "  </style>\n",
              "\n",
              "      <script>\n",
              "        const buttonEl =\n",
              "          document.querySelector('#df-8a77ea09-0d32-439b-849a-24227b3c700a button.colab-df-convert');\n",
              "        buttonEl.style.display =\n",
              "          google.colab.kernel.accessAllowed ? 'block' : 'none';\n",
              "\n",
              "        async function convertToInteractive(key) {\n",
              "          const element = document.querySelector('#df-8a77ea09-0d32-439b-849a-24227b3c700a');\n",
              "          const dataTable =\n",
              "            await google.colab.kernel.invokeFunction('convertToInteractive',\n",
              "                                                     [key], {});\n",
              "          if (!dataTable) return;\n",
              "\n",
              "          const docLinkHtml = 'Like what you see? Visit the ' +\n",
              "            '<a target=\"_blank\" href=https://colab.research.google.com/notebooks/data_table.ipynb>data table notebook</a>'\n",
              "            + ' to learn more about interactive tables.';\n",
              "          element.innerHTML = '';\n",
              "          dataTable['output_type'] = 'display_data';\n",
              "          await google.colab.output.renderOutput(dataTable, element);\n",
              "          const docLink = document.createElement('div');\n",
              "          docLink.innerHTML = docLinkHtml;\n",
              "          element.appendChild(docLink);\n",
              "        }\n",
              "      </script>\n",
              "    </div>\n",
              "  </div>\n",
              "  "
            ]
          },
          "metadata": {},
          "execution_count": 37
        }
      ]
    },
    {
      "cell_type": "code",
      "source": [
        "#we need to change the borough and radia code\n",
        "#there is no ordering here, so we use get_dummies to create categories for each\n",
        "#we have increased the features for each category\n",
        "call = pd.get_dummies(call)\n",
        "call.head()"
      ],
      "metadata": {
        "colab": {
          "base_uri": "https://localhost:8080/"
        },
        "id": "PTxBJC-05KPV",
        "outputId": "252de20a-4573-4686-ea38-e35b39eb1bf2"
      },
      "execution_count": null,
      "outputs": [
        {
          "output_type": "execute_result",
          "data": {
            "text/plain": [
              "   Physical_exposure_to_drought  Physical_exposure_to_flood  \\\n",
              "1                            28                         3.9   \n",
              "2                            28                         3.9   \n",
              "3                            28                         3.9   \n",
              "4                            28                         3.9   \n",
              "5                            28                         3.9   \n",
              "\n",
              "   Political_violence  HAZARD  \n",
              "1                 3.6     3.8  \n",
              "2                 3.6     3.8  \n",
              "3                 3.6     3.8  \n",
              "4                 0.3     3.8  \n",
              "5                 0.0     3.8  "
            ],
            "text/html": [
              "\n",
              "  <div id=\"df-be1fd966-935f-4014-933f-13f23619bb9b\">\n",
              "    <div class=\"colab-df-container\">\n",
              "      <div>\n",
              "<style scoped>\n",
              "    .dataframe tbody tr th:only-of-type {\n",
              "        vertical-align: middle;\n",
              "    }\n",
              "\n",
              "    .dataframe tbody tr th {\n",
              "        vertical-align: top;\n",
              "    }\n",
              "\n",
              "    .dataframe thead th {\n",
              "        text-align: right;\n",
              "    }\n",
              "</style>\n",
              "<table border=\"1\" class=\"dataframe\">\n",
              "  <thead>\n",
              "    <tr style=\"text-align: right;\">\n",
              "      <th></th>\n",
              "      <th>Physical_exposure_to_drought</th>\n",
              "      <th>Physical_exposure_to_flood</th>\n",
              "      <th>Political_violence</th>\n",
              "      <th>HAZARD</th>\n",
              "    </tr>\n",
              "  </thead>\n",
              "  <tbody>\n",
              "    <tr>\n",
              "      <th>1</th>\n",
              "      <td>28</td>\n",
              "      <td>3.9</td>\n",
              "      <td>3.6</td>\n",
              "      <td>3.8</td>\n",
              "    </tr>\n",
              "    <tr>\n",
              "      <th>2</th>\n",
              "      <td>28</td>\n",
              "      <td>3.9</td>\n",
              "      <td>3.6</td>\n",
              "      <td>3.8</td>\n",
              "    </tr>\n",
              "    <tr>\n",
              "      <th>3</th>\n",
              "      <td>28</td>\n",
              "      <td>3.9</td>\n",
              "      <td>3.6</td>\n",
              "      <td>3.8</td>\n",
              "    </tr>\n",
              "    <tr>\n",
              "      <th>4</th>\n",
              "      <td>28</td>\n",
              "      <td>3.9</td>\n",
              "      <td>0.3</td>\n",
              "      <td>3.8</td>\n",
              "    </tr>\n",
              "    <tr>\n",
              "      <th>5</th>\n",
              "      <td>28</td>\n",
              "      <td>3.9</td>\n",
              "      <td>0.0</td>\n",
              "      <td>3.8</td>\n",
              "    </tr>\n",
              "  </tbody>\n",
              "</table>\n",
              "</div>\n",
              "      <button class=\"colab-df-convert\" onclick=\"convertToInteractive('df-be1fd966-935f-4014-933f-13f23619bb9b')\"\n",
              "              title=\"Convert this dataframe to an interactive table.\"\n",
              "              style=\"display:none;\">\n",
              "        \n",
              "  <svg xmlns=\"http://www.w3.org/2000/svg\" height=\"24px\"viewBox=\"0 0 24 24\"\n",
              "       width=\"24px\">\n",
              "    <path d=\"M0 0h24v24H0V0z\" fill=\"none\"/>\n",
              "    <path d=\"M18.56 5.44l.94 2.06.94-2.06 2.06-.94-2.06-.94-.94-2.06-.94 2.06-2.06.94zm-11 1L8.5 8.5l.94-2.06 2.06-.94-2.06-.94L8.5 2.5l-.94 2.06-2.06.94zm10 10l.94 2.06.94-2.06 2.06-.94-2.06-.94-.94-2.06-.94 2.06-2.06.94z\"/><path d=\"M17.41 7.96l-1.37-1.37c-.4-.4-.92-.59-1.43-.59-.52 0-1.04.2-1.43.59L10.3 9.45l-7.72 7.72c-.78.78-.78 2.05 0 2.83L4 21.41c.39.39.9.59 1.41.59.51 0 1.02-.2 1.41-.59l7.78-7.78 2.81-2.81c.8-.78.8-2.07 0-2.86zM5.41 20L4 18.59l7.72-7.72 1.47 1.35L5.41 20z\"/>\n",
              "  </svg>\n",
              "      </button>\n",
              "      \n",
              "  <style>\n",
              "    .colab-df-container {\n",
              "      display:flex;\n",
              "      flex-wrap:wrap;\n",
              "      gap: 12px;\n",
              "    }\n",
              "\n",
              "    .colab-df-convert {\n",
              "      background-color: #E8F0FE;\n",
              "      border: none;\n",
              "      border-radius: 50%;\n",
              "      cursor: pointer;\n",
              "      display: none;\n",
              "      fill: #1967D2;\n",
              "      height: 32px;\n",
              "      padding: 0 0 0 0;\n",
              "      width: 32px;\n",
              "    }\n",
              "\n",
              "    .colab-df-convert:hover {\n",
              "      background-color: #E2EBFA;\n",
              "      box-shadow: 0px 1px 2px rgba(60, 64, 67, 0.3), 0px 1px 3px 1px rgba(60, 64, 67, 0.15);\n",
              "      fill: #174EA6;\n",
              "    }\n",
              "\n",
              "    [theme=dark] .colab-df-convert {\n",
              "      background-color: #3B4455;\n",
              "      fill: #D2E3FC;\n",
              "    }\n",
              "\n",
              "    [theme=dark] .colab-df-convert:hover {\n",
              "      background-color: #434B5C;\n",
              "      box-shadow: 0px 1px 3px 1px rgba(0, 0, 0, 0.15);\n",
              "      filter: drop-shadow(0px 1px 2px rgba(0, 0, 0, 0.3));\n",
              "      fill: #FFFFFF;\n",
              "    }\n",
              "  </style>\n",
              "\n",
              "      <script>\n",
              "        const buttonEl =\n",
              "          document.querySelector('#df-be1fd966-935f-4014-933f-13f23619bb9b button.colab-df-convert');\n",
              "        buttonEl.style.display =\n",
              "          google.colab.kernel.accessAllowed ? 'block' : 'none';\n",
              "\n",
              "        async function convertToInteractive(key) {\n",
              "          const element = document.querySelector('#df-be1fd966-935f-4014-933f-13f23619bb9b');\n",
              "          const dataTable =\n",
              "            await google.colab.kernel.invokeFunction('convertToInteractive',\n",
              "                                                     [key], {});\n",
              "          if (!dataTable) return;\n",
              "\n",
              "          const docLinkHtml = 'Like what you see? Visit the ' +\n",
              "            '<a target=\"_blank\" href=https://colab.research.google.com/notebooks/data_table.ipynb>data table notebook</a>'\n",
              "            + ' to learn more about interactive tables.';\n",
              "          element.innerHTML = '';\n",
              "          dataTable['output_type'] = 'display_data';\n",
              "          await google.colab.output.renderOutput(dataTable, element);\n",
              "          const docLink = document.createElement('div');\n",
              "          docLink.innerHTML = docLinkHtml;\n",
              "          element.appendChild(docLink);\n",
              "        }\n",
              "      </script>\n",
              "    </div>\n",
              "  </div>\n",
              "  "
            ]
          },
          "metadata": {},
          "execution_count": 38
        }
      ]
    },
    {
      "cell_type": "code",
      "source": [
        "#we now do basic regression\n",
        "from sklearn.model_selection import train_test_split\n",
        "from sklearn.linear_model import LinearRegression\n",
        "from sklearn.metrics import r2_score, mean_squared_error\n",
        "\n",
        "#A STICKING POINT: when using LinearRegression, sklearn says that X must be 2d\n",
        "#for some suggestions either just make X 2D by adding variables, or\n",
        "X = call[['Physical_exposure_to_drought','Physical_exposure_to_flood']]\n",
        "y = call['HAZARD']\n",
        "\n",
        "#25% of the data is set aside to test the model\n",
        "X_train, X_test, y_train, y_test = train_test_split(X,y,test_size = .25)"
      ],
      "metadata": {
        "id": "YmVrXjnn5M6R"
      },
      "execution_count": null,
      "outputs": []
    },
    {
      "cell_type": "code",
      "source": [
        "#set up the regression\n",
        "lm = LinearRegression()\n",
        "lm.fit(X_train, y_train)\n",
        "\n",
        "#check the r-square on the data\n",
        "lm.score(X_train,y_train)"
      ],
      "metadata": {
        "colab": {
          "base_uri": "https://localhost:8080/"
        },
        "id": "ouqL3X6d5N5p",
        "outputId": "d803b128-3995-4cf6-c718-c8221c817c05"
      },
      "execution_count": null,
      "outputs": [
        {
          "output_type": "execute_result",
          "data": {
            "text/plain": [
              "0.555261849001498"
            ]
          },
          "metadata": {},
          "execution_count": 40
        }
      ]
    },
    {
      "cell_type": "code",
      "source": [
        "#let's now see how it performs on test data\n",
        "y_pred = lm.predict(X_test)\n",
        "print(y_pred)"
      ],
      "metadata": {
        "id": "1LEPYNXt5RVB",
        "colab": {
          "base_uri": "https://localhost:8080/"
        },
        "outputId": "8786f534-b35c-4899-c9d3-caf3bbcf30e1"
      },
      "execution_count": null,
      "outputs": [
        {
          "output_type": "stream",
          "name": "stdout",
          "text": [
            "[5.27493076 8.52198839 8.01358176 7.98882413 5.27493076 7.77794666\n",
            " 5.41131653 5.27493076 4.27679513 5.27493076 8.63361652 9.08012908\n",
            " 8.42085826 7.55049118 7.07082259 8.68943059 7.34591253 6.08904617\n",
            " 8.63361652 4.96502278 8.57780245 8.52198839 5.41131653 5.27493076\n",
            " 8.20578159 2.65818712 4.27679513 7.13105466 8.01966176 5.63247321\n",
            " 4.14207136 7.34989293 7.14553308 5.27493076 8.01358176 5.27493076\n",
            " 5.02879766]\n"
          ]
        }
      ]
    },
    {
      "cell_type": "code",
      "source": [
        "#find the r-sqaure by testing on the training data\n",
        "r2_score(y_test,y_pred)"
      ],
      "metadata": {
        "id": "M7OIutvn5TLg",
        "colab": {
          "base_uri": "https://localhost:8080/"
        },
        "outputId": "74804dcc-d10b-4238-dfea-ff64e9eabb26"
      },
      "execution_count": null,
      "outputs": [
        {
          "output_type": "execute_result",
          "data": {
            "text/plain": [
              "0.6241220589502363"
            ]
          },
          "metadata": {},
          "execution_count": 42
        }
      ]
    },
    {
      "cell_type": "markdown",
      "source": [
        "#Logistic regression (Logit) model"
      ],
      "metadata": {
        "id": "ODAvTQYClC3x"
      }
    },
    {
      "cell_type": "code",
      "source": [
        "import statsmodels.api as sm\n",
        "\n",
        "#define response variable\n",
        "y = df['Inequality']\n",
        "\n",
        "#define predictor variables\n",
        "x = df[['Physical_exposure_to_flood', 'Physical_exposure_to_drought','Natural','Political_violence','Conflict_probability','Human','HAZARD','Development_&_Deprivation']]\n",
        "\n",
        "#add constant to predictor variables\n",
        "x = sm.add_constant(x)\n",
        "\n",
        "#fit regression model\n",
        "model = sm.OLS(y, x).fit()\n",
        "\n",
        "#view summary of model fit\n",
        "print(model.summary())"
      ],
      "metadata": {
        "id": "A0zU38SDmKQx",
        "colab": {
          "base_uri": "https://localhost:8080/"
        },
        "outputId": "8e933de9-724e-4856-cc78-a268fd810fcb"
      },
      "execution_count": null,
      "outputs": [
        {
          "output_type": "stream",
          "name": "stdout",
          "text": [
            "                            OLS Regression Results                            \n",
            "==============================================================================\n",
            "Dep. Variable:             Inequality   R-squared:                       0.434\n",
            "Model:                            OLS   Adj. R-squared:                  0.401\n",
            "Method:                 Least Squares   F-statistic:                     13.12\n",
            "Date:                Tue, 28 Jun 2022   Prob (F-statistic):           6.04e-14\n",
            "Time:                        06:25:22   Log-Likelihood:                -269.44\n",
            "No. Observations:                 146   AIC:                             556.9\n",
            "Df Residuals:                     137   BIC:                             583.7\n",
            "Df Model:                           8                                         \n",
            "Covariance Type:            nonrobust                                         \n",
            "================================================================================================\n",
            "                                   coef    std err          t      P>|t|      [0.025      0.975]\n",
            "------------------------------------------------------------------------------------------------\n",
            "const                           -1.2206      0.877     -1.392      0.166      -2.955       0.513\n",
            "Physical_exposure_to_flood      -0.2120      0.203     -1.043      0.299      -0.614       0.190\n",
            "Physical_exposure_to_drought    -0.0535      0.130     -0.410      0.682      -0.312       0.204\n",
            "Natural                         -0.0102      0.488     -0.021      0.983      -0.976       0.955\n",
            "Political_violence               0.0408      0.075      0.544      0.587      -0.107       0.189\n",
            "Conflict_probability             0.3526      0.121      2.903      0.004       0.112       0.593\n",
            "Human                           -0.3192      0.320     -0.996      0.321      -0.953       0.314\n",
            "HAZARD                           0.5683      0.498      1.141      0.256      -0.416       1.553\n",
            "Development_&_Deprivation        0.5164      0.095      5.427      0.000       0.328       0.705\n",
            "==============================================================================\n",
            "Omnibus:                        0.728   Durbin-Watson:                   0.488\n",
            "Prob(Omnibus):                  0.695   Jarque-Bera (JB):                0.463\n",
            "Skew:                           0.126   Prob(JB):                        0.793\n",
            "Kurtosis:                       3.113   Cond. No.                         129.\n",
            "==============================================================================\n",
            "\n",
            "Warnings:\n",
            "[1] Standard Errors assume that the covariance matrix of the errors is correctly specified.\n"
          ]
        }
      ]
    },
    {
      "cell_type": "markdown",
      "source": [
        "# Knn and SVM models"
      ],
      "metadata": {
        "id": "W5VHyJV05y9Y"
      }
    },
    {
      "cell_type": "code",
      "source": [
        "df.head()"
      ],
      "metadata": {
        "id": "zE7WO9pf6SfG",
        "colab": {
          "base_uri": "https://localhost:8080/"
        },
        "outputId": "a436e6a5-0cf5-4632-aadf-87d59d9956be"
      },
      "execution_count": null,
      "outputs": [
        {
          "output_type": "execute_result",
          "data": {
            "text/plain": [
              "   COUNTRY  Physical_exposure_to_flood  Physical_exposure_to_drought  Natural  \\\n",
              "1        0                         3.9                           4.8      4.3   \n",
              "2        0                         3.9                           4.8      4.3   \n",
              "3        0                         3.9                           4.8      4.3   \n",
              "4        0                         3.9                           4.8      4.3   \n",
              "5        0                         3.9                           4.8      4.3   \n",
              "\n",
              "   Political_violence  Conflict_probability  Human  HAZARD  \\\n",
              "1                 3.6                   4.7    3.3     3.8   \n",
              "2                 3.6                   4.7    3.3     3.8   \n",
              "3                 3.6                   4.7    3.3     3.8   \n",
              "4                 0.3                   4.7    3.3     3.8   \n",
              "5                 0.0                   4.7    3.3     3.8   \n",
              "\n",
              "   Development_&_Deprivation  Inequality  \n",
              "1                        8.5         4.0  \n",
              "2                        6.5         3.4  \n",
              "3                        8.5         4.0  \n",
              "4                        7.9         3.9  \n",
              "5                        8.3         3.9  "
            ],
            "text/html": [
              "\n",
              "  <div id=\"df-5ab99199-26ba-4b92-b693-b4b79b589707\">\n",
              "    <div class=\"colab-df-container\">\n",
              "      <div>\n",
              "<style scoped>\n",
              "    .dataframe tbody tr th:only-of-type {\n",
              "        vertical-align: middle;\n",
              "    }\n",
              "\n",
              "    .dataframe tbody tr th {\n",
              "        vertical-align: top;\n",
              "    }\n",
              "\n",
              "    .dataframe thead th {\n",
              "        text-align: right;\n",
              "    }\n",
              "</style>\n",
              "<table border=\"1\" class=\"dataframe\">\n",
              "  <thead>\n",
              "    <tr style=\"text-align: right;\">\n",
              "      <th></th>\n",
              "      <th>COUNTRY</th>\n",
              "      <th>Physical_exposure_to_flood</th>\n",
              "      <th>Physical_exposure_to_drought</th>\n",
              "      <th>Natural</th>\n",
              "      <th>Political_violence</th>\n",
              "      <th>Conflict_probability</th>\n",
              "      <th>Human</th>\n",
              "      <th>HAZARD</th>\n",
              "      <th>Development_&amp;_Deprivation</th>\n",
              "      <th>Inequality</th>\n",
              "    </tr>\n",
              "  </thead>\n",
              "  <tbody>\n",
              "    <tr>\n",
              "      <th>1</th>\n",
              "      <td>0</td>\n",
              "      <td>3.9</td>\n",
              "      <td>4.8</td>\n",
              "      <td>4.3</td>\n",
              "      <td>3.6</td>\n",
              "      <td>4.7</td>\n",
              "      <td>3.3</td>\n",
              "      <td>3.8</td>\n",
              "      <td>8.5</td>\n",
              "      <td>4.0</td>\n",
              "    </tr>\n",
              "    <tr>\n",
              "      <th>2</th>\n",
              "      <td>0</td>\n",
              "      <td>3.9</td>\n",
              "      <td>4.8</td>\n",
              "      <td>4.3</td>\n",
              "      <td>3.6</td>\n",
              "      <td>4.7</td>\n",
              "      <td>3.3</td>\n",
              "      <td>3.8</td>\n",
              "      <td>6.5</td>\n",
              "      <td>3.4</td>\n",
              "    </tr>\n",
              "    <tr>\n",
              "      <th>3</th>\n",
              "      <td>0</td>\n",
              "      <td>3.9</td>\n",
              "      <td>4.8</td>\n",
              "      <td>4.3</td>\n",
              "      <td>3.6</td>\n",
              "      <td>4.7</td>\n",
              "      <td>3.3</td>\n",
              "      <td>3.8</td>\n",
              "      <td>8.5</td>\n",
              "      <td>4.0</td>\n",
              "    </tr>\n",
              "    <tr>\n",
              "      <th>4</th>\n",
              "      <td>0</td>\n",
              "      <td>3.9</td>\n",
              "      <td>4.8</td>\n",
              "      <td>4.3</td>\n",
              "      <td>0.3</td>\n",
              "      <td>4.7</td>\n",
              "      <td>3.3</td>\n",
              "      <td>3.8</td>\n",
              "      <td>7.9</td>\n",
              "      <td>3.9</td>\n",
              "    </tr>\n",
              "    <tr>\n",
              "      <th>5</th>\n",
              "      <td>0</td>\n",
              "      <td>3.9</td>\n",
              "      <td>4.8</td>\n",
              "      <td>4.3</td>\n",
              "      <td>0.0</td>\n",
              "      <td>4.7</td>\n",
              "      <td>3.3</td>\n",
              "      <td>3.8</td>\n",
              "      <td>8.3</td>\n",
              "      <td>3.9</td>\n",
              "    </tr>\n",
              "  </tbody>\n",
              "</table>\n",
              "</div>\n",
              "      <button class=\"colab-df-convert\" onclick=\"convertToInteractive('df-5ab99199-26ba-4b92-b693-b4b79b589707')\"\n",
              "              title=\"Convert this dataframe to an interactive table.\"\n",
              "              style=\"display:none;\">\n",
              "        \n",
              "  <svg xmlns=\"http://www.w3.org/2000/svg\" height=\"24px\"viewBox=\"0 0 24 24\"\n",
              "       width=\"24px\">\n",
              "    <path d=\"M0 0h24v24H0V0z\" fill=\"none\"/>\n",
              "    <path d=\"M18.56 5.44l.94 2.06.94-2.06 2.06-.94-2.06-.94-.94-2.06-.94 2.06-2.06.94zm-11 1L8.5 8.5l.94-2.06 2.06-.94-2.06-.94L8.5 2.5l-.94 2.06-2.06.94zm10 10l.94 2.06.94-2.06 2.06-.94-2.06-.94-.94-2.06-.94 2.06-2.06.94z\"/><path d=\"M17.41 7.96l-1.37-1.37c-.4-.4-.92-.59-1.43-.59-.52 0-1.04.2-1.43.59L10.3 9.45l-7.72 7.72c-.78.78-.78 2.05 0 2.83L4 21.41c.39.39.9.59 1.41.59.51 0 1.02-.2 1.41-.59l7.78-7.78 2.81-2.81c.8-.78.8-2.07 0-2.86zM5.41 20L4 18.59l7.72-7.72 1.47 1.35L5.41 20z\"/>\n",
              "  </svg>\n",
              "      </button>\n",
              "      \n",
              "  <style>\n",
              "    .colab-df-container {\n",
              "      display:flex;\n",
              "      flex-wrap:wrap;\n",
              "      gap: 12px;\n",
              "    }\n",
              "\n",
              "    .colab-df-convert {\n",
              "      background-color: #E8F0FE;\n",
              "      border: none;\n",
              "      border-radius: 50%;\n",
              "      cursor: pointer;\n",
              "      display: none;\n",
              "      fill: #1967D2;\n",
              "      height: 32px;\n",
              "      padding: 0 0 0 0;\n",
              "      width: 32px;\n",
              "    }\n",
              "\n",
              "    .colab-df-convert:hover {\n",
              "      background-color: #E2EBFA;\n",
              "      box-shadow: 0px 1px 2px rgba(60, 64, 67, 0.3), 0px 1px 3px 1px rgba(60, 64, 67, 0.15);\n",
              "      fill: #174EA6;\n",
              "    }\n",
              "\n",
              "    [theme=dark] .colab-df-convert {\n",
              "      background-color: #3B4455;\n",
              "      fill: #D2E3FC;\n",
              "    }\n",
              "\n",
              "    [theme=dark] .colab-df-convert:hover {\n",
              "      background-color: #434B5C;\n",
              "      box-shadow: 0px 1px 3px 1px rgba(0, 0, 0, 0.15);\n",
              "      filter: drop-shadow(0px 1px 2px rgba(0, 0, 0, 0.3));\n",
              "      fill: #FFFFFF;\n",
              "    }\n",
              "  </style>\n",
              "\n",
              "      <script>\n",
              "        const buttonEl =\n",
              "          document.querySelector('#df-5ab99199-26ba-4b92-b693-b4b79b589707 button.colab-df-convert');\n",
              "        buttonEl.style.display =\n",
              "          google.colab.kernel.accessAllowed ? 'block' : 'none';\n",
              "\n",
              "        async function convertToInteractive(key) {\n",
              "          const element = document.querySelector('#df-5ab99199-26ba-4b92-b693-b4b79b589707');\n",
              "          const dataTable =\n",
              "            await google.colab.kernel.invokeFunction('convertToInteractive',\n",
              "                                                     [key], {});\n",
              "          if (!dataTable) return;\n",
              "\n",
              "          const docLinkHtml = 'Like what you see? Visit the ' +\n",
              "            '<a target=\"_blank\" href=https://colab.research.google.com/notebooks/data_table.ipynb>data table notebook</a>'\n",
              "            + ' to learn more about interactive tables.';\n",
              "          element.innerHTML = '';\n",
              "          dataTable['output_type'] = 'display_data';\n",
              "          await google.colab.output.renderOutput(dataTable, element);\n",
              "          const docLink = document.createElement('div');\n",
              "          docLink.innerHTML = docLinkHtml;\n",
              "          element.appendChild(docLink);\n",
              "        }\n",
              "      </script>\n",
              "    </div>\n",
              "  </div>\n",
              "  "
            ]
          },
          "metadata": {},
          "execution_count": 44
        }
      ]
    },
    {
      "cell_type": "code",
      "source": [
        "#We check our non-binary categorical data"
      ],
      "metadata": {
        "id": "J99qYrNq6Yd1"
      },
      "execution_count": null,
      "outputs": []
    },
    {
      "cell_type": "code",
      "source": [
        "df.Conflict_probability.value_counts()"
      ],
      "metadata": {
        "id": "ZzlgRHG988tG",
        "colab": {
          "base_uri": "https://localhost:8080/"
        },
        "outputId": "d4ae35c6-1ac7-4289-ae32-a94b76b317d1"
      },
      "execution_count": null,
      "outputs": [
        {
          "output_type": "execute_result",
          "data": {
            "text/plain": [
              "8.4     47\n",
              "9.5     18\n",
              "4.7     17\n",
              "10.0    17\n",
              "8.1     11\n",
              "9.6     10\n",
              "5.2     10\n",
              "1.6      6\n",
              "0.6      5\n",
              "1.0      5\n",
              "Name: Conflict_probability, dtype: int64"
            ]
          },
          "metadata": {},
          "execution_count": 46
        }
      ]
    },
    {
      "cell_type": "code",
      "source": [
        "df.Human.value_counts()"
      ],
      "metadata": {
        "id": "fJqmVO2x9CFN",
        "colab": {
          "base_uri": "https://localhost:8080/"
        },
        "outputId": "87189191-8451-455f-fd81-46555e9f6703"
      },
      "execution_count": null,
      "outputs": [
        {
          "output_type": "execute_result",
          "data": {
            "text/plain": [
              "10.0    41\n",
              "5.9     22\n",
              "3.3     17\n",
              "6.4     16\n",
              "3.6      9\n",
              "7.0      7\n",
              "5.6      6\n",
              "1.1      5\n",
              "0.4      5\n",
              "0.7      5\n",
              "6.6      4\n",
              "6.7      1\n",
              "7.3      1\n",
              "6.3      1\n",
              "8.0      1\n",
              "9.6      1\n",
              "7.9      1\n",
              "8.3      1\n",
              "7.8      1\n",
              "8.2      1\n",
              "Name: Human, dtype: int64"
            ]
          },
          "metadata": {},
          "execution_count": 47
        }
      ]
    },
    {
      "cell_type": "code",
      "source": [
        "#do OneHotEncoder for non-binary categorical data\n",
        "Conflict_probability = pd.get_dummies(df['Conflict_probability'])\n",
        "human = pd.get_dummies(df['Human'])\n",
        "ohe_df = df.filter(['COUNTRY','Physical_exposure_to_flood','Physical_exposure_to_drought','Natural','Political_violence','Conflict_probability','Human','HAZARD','Development_&_Deprivation\t'], axis = 1)\n",
        "Conflict_probability.columns = ['cpc1','cpc2','cpc3','cpc4','cpc5','cpc6','cpc7','cpc8','cpc9','cpc10']\n",
        "ohe_df = ohe_df.join(Conflict_probability)\n",
        "human.columns = ['h1','h2','h3','h4','h5','h6','h7','h8','h9','h10','h11','h12','h13','h14','h15','h16','h17','h18','h19','h20']\n",
        "ohe_df = ohe_df.join(human)\n",
        "ohe_df.head()"
      ],
      "metadata": {
        "id": "xdyca8N5-wrr",
        "colab": {
          "base_uri": "https://localhost:8080/"
        },
        "outputId": "af4ae616-c453-4cb7-c858-a85656f23ef9"
      },
      "execution_count": null,
      "outputs": [
        {
          "output_type": "execute_result",
          "data": {
            "text/plain": [
              "   COUNTRY  Physical_exposure_to_flood  Physical_exposure_to_drought  Natural  \\\n",
              "1        0                         3.9                           4.8      4.3   \n",
              "2        0                         3.9                           4.8      4.3   \n",
              "3        0                         3.9                           4.8      4.3   \n",
              "4        0                         3.9                           4.8      4.3   \n",
              "5        0                         3.9                           4.8      4.3   \n",
              "\n",
              "   Political_violence  Conflict_probability  Human  HAZARD  cpc1  cpc2  cpc3  \\\n",
              "1                 3.6                   4.7    3.3     3.8     0     0     0   \n",
              "2                 3.6                   4.7    3.3     3.8     0     0     0   \n",
              "3                 3.6                   4.7    3.3     3.8     0     0     0   \n",
              "4                 0.3                   4.7    3.3     3.8     0     0     0   \n",
              "5                 0.0                   4.7    3.3     3.8     0     0     0   \n",
              "\n",
              "   cpc4  cpc5  cpc6  cpc7  cpc8  cpc9  cpc10  h1  h2  h3  h4  h5  h6  h7  h8  \\\n",
              "1     1     0     0     0     0     0      0   0   0   0   1   0   0   0   0   \n",
              "2     1     0     0     0     0     0      0   0   0   0   1   0   0   0   0   \n",
              "3     1     0     0     0     0     0      0   0   0   0   1   0   0   0   0   \n",
              "4     1     0     0     0     0     0      0   0   0   0   1   0   0   0   0   \n",
              "5     1     0     0     0     0     0      0   0   0   0   1   0   0   0   0   \n",
              "\n",
              "   h9  h10  h11  h12  h13  h14  h15  h16  h17  h18  h19  h20  \n",
              "1   0    0    0    0    0    0    0    0    0    0    0    0  \n",
              "2   0    0    0    0    0    0    0    0    0    0    0    0  \n",
              "3   0    0    0    0    0    0    0    0    0    0    0    0  \n",
              "4   0    0    0    0    0    0    0    0    0    0    0    0  \n",
              "5   0    0    0    0    0    0    0    0    0    0    0    0  "
            ],
            "text/html": [
              "\n",
              "  <div id=\"df-77f8f12f-195e-42cf-ac32-18745c5ac663\">\n",
              "    <div class=\"colab-df-container\">\n",
              "      <div>\n",
              "<style scoped>\n",
              "    .dataframe tbody tr th:only-of-type {\n",
              "        vertical-align: middle;\n",
              "    }\n",
              "\n",
              "    .dataframe tbody tr th {\n",
              "        vertical-align: top;\n",
              "    }\n",
              "\n",
              "    .dataframe thead th {\n",
              "        text-align: right;\n",
              "    }\n",
              "</style>\n",
              "<table border=\"1\" class=\"dataframe\">\n",
              "  <thead>\n",
              "    <tr style=\"text-align: right;\">\n",
              "      <th></th>\n",
              "      <th>COUNTRY</th>\n",
              "      <th>Physical_exposure_to_flood</th>\n",
              "      <th>Physical_exposure_to_drought</th>\n",
              "      <th>Natural</th>\n",
              "      <th>Political_violence</th>\n",
              "      <th>Conflict_probability</th>\n",
              "      <th>Human</th>\n",
              "      <th>HAZARD</th>\n",
              "      <th>cpc1</th>\n",
              "      <th>cpc2</th>\n",
              "      <th>cpc3</th>\n",
              "      <th>cpc4</th>\n",
              "      <th>cpc5</th>\n",
              "      <th>cpc6</th>\n",
              "      <th>cpc7</th>\n",
              "      <th>cpc8</th>\n",
              "      <th>cpc9</th>\n",
              "      <th>cpc10</th>\n",
              "      <th>h1</th>\n",
              "      <th>h2</th>\n",
              "      <th>h3</th>\n",
              "      <th>h4</th>\n",
              "      <th>h5</th>\n",
              "      <th>h6</th>\n",
              "      <th>h7</th>\n",
              "      <th>h8</th>\n",
              "      <th>h9</th>\n",
              "      <th>h10</th>\n",
              "      <th>h11</th>\n",
              "      <th>h12</th>\n",
              "      <th>h13</th>\n",
              "      <th>h14</th>\n",
              "      <th>h15</th>\n",
              "      <th>h16</th>\n",
              "      <th>h17</th>\n",
              "      <th>h18</th>\n",
              "      <th>h19</th>\n",
              "      <th>h20</th>\n",
              "    </tr>\n",
              "  </thead>\n",
              "  <tbody>\n",
              "    <tr>\n",
              "      <th>1</th>\n",
              "      <td>0</td>\n",
              "      <td>3.9</td>\n",
              "      <td>4.8</td>\n",
              "      <td>4.3</td>\n",
              "      <td>3.6</td>\n",
              "      <td>4.7</td>\n",
              "      <td>3.3</td>\n",
              "      <td>3.8</td>\n",
              "      <td>0</td>\n",
              "      <td>0</td>\n",
              "      <td>0</td>\n",
              "      <td>1</td>\n",
              "      <td>0</td>\n",
              "      <td>0</td>\n",
              "      <td>0</td>\n",
              "      <td>0</td>\n",
              "      <td>0</td>\n",
              "      <td>0</td>\n",
              "      <td>0</td>\n",
              "      <td>0</td>\n",
              "      <td>0</td>\n",
              "      <td>1</td>\n",
              "      <td>0</td>\n",
              "      <td>0</td>\n",
              "      <td>0</td>\n",
              "      <td>0</td>\n",
              "      <td>0</td>\n",
              "      <td>0</td>\n",
              "      <td>0</td>\n",
              "      <td>0</td>\n",
              "      <td>0</td>\n",
              "      <td>0</td>\n",
              "      <td>0</td>\n",
              "      <td>0</td>\n",
              "      <td>0</td>\n",
              "      <td>0</td>\n",
              "      <td>0</td>\n",
              "      <td>0</td>\n",
              "    </tr>\n",
              "    <tr>\n",
              "      <th>2</th>\n",
              "      <td>0</td>\n",
              "      <td>3.9</td>\n",
              "      <td>4.8</td>\n",
              "      <td>4.3</td>\n",
              "      <td>3.6</td>\n",
              "      <td>4.7</td>\n",
              "      <td>3.3</td>\n",
              "      <td>3.8</td>\n",
              "      <td>0</td>\n",
              "      <td>0</td>\n",
              "      <td>0</td>\n",
              "      <td>1</td>\n",
              "      <td>0</td>\n",
              "      <td>0</td>\n",
              "      <td>0</td>\n",
              "      <td>0</td>\n",
              "      <td>0</td>\n",
              "      <td>0</td>\n",
              "      <td>0</td>\n",
              "      <td>0</td>\n",
              "      <td>0</td>\n",
              "      <td>1</td>\n",
              "      <td>0</td>\n",
              "      <td>0</td>\n",
              "      <td>0</td>\n",
              "      <td>0</td>\n",
              "      <td>0</td>\n",
              "      <td>0</td>\n",
              "      <td>0</td>\n",
              "      <td>0</td>\n",
              "      <td>0</td>\n",
              "      <td>0</td>\n",
              "      <td>0</td>\n",
              "      <td>0</td>\n",
              "      <td>0</td>\n",
              "      <td>0</td>\n",
              "      <td>0</td>\n",
              "      <td>0</td>\n",
              "    </tr>\n",
              "    <tr>\n",
              "      <th>3</th>\n",
              "      <td>0</td>\n",
              "      <td>3.9</td>\n",
              "      <td>4.8</td>\n",
              "      <td>4.3</td>\n",
              "      <td>3.6</td>\n",
              "      <td>4.7</td>\n",
              "      <td>3.3</td>\n",
              "      <td>3.8</td>\n",
              "      <td>0</td>\n",
              "      <td>0</td>\n",
              "      <td>0</td>\n",
              "      <td>1</td>\n",
              "      <td>0</td>\n",
              "      <td>0</td>\n",
              "      <td>0</td>\n",
              "      <td>0</td>\n",
              "      <td>0</td>\n",
              "      <td>0</td>\n",
              "      <td>0</td>\n",
              "      <td>0</td>\n",
              "      <td>0</td>\n",
              "      <td>1</td>\n",
              "      <td>0</td>\n",
              "      <td>0</td>\n",
              "      <td>0</td>\n",
              "      <td>0</td>\n",
              "      <td>0</td>\n",
              "      <td>0</td>\n",
              "      <td>0</td>\n",
              "      <td>0</td>\n",
              "      <td>0</td>\n",
              "      <td>0</td>\n",
              "      <td>0</td>\n",
              "      <td>0</td>\n",
              "      <td>0</td>\n",
              "      <td>0</td>\n",
              "      <td>0</td>\n",
              "      <td>0</td>\n",
              "    </tr>\n",
              "    <tr>\n",
              "      <th>4</th>\n",
              "      <td>0</td>\n",
              "      <td>3.9</td>\n",
              "      <td>4.8</td>\n",
              "      <td>4.3</td>\n",
              "      <td>0.3</td>\n",
              "      <td>4.7</td>\n",
              "      <td>3.3</td>\n",
              "      <td>3.8</td>\n",
              "      <td>0</td>\n",
              "      <td>0</td>\n",
              "      <td>0</td>\n",
              "      <td>1</td>\n",
              "      <td>0</td>\n",
              "      <td>0</td>\n",
              "      <td>0</td>\n",
              "      <td>0</td>\n",
              "      <td>0</td>\n",
              "      <td>0</td>\n",
              "      <td>0</td>\n",
              "      <td>0</td>\n",
              "      <td>0</td>\n",
              "      <td>1</td>\n",
              "      <td>0</td>\n",
              "      <td>0</td>\n",
              "      <td>0</td>\n",
              "      <td>0</td>\n",
              "      <td>0</td>\n",
              "      <td>0</td>\n",
              "      <td>0</td>\n",
              "      <td>0</td>\n",
              "      <td>0</td>\n",
              "      <td>0</td>\n",
              "      <td>0</td>\n",
              "      <td>0</td>\n",
              "      <td>0</td>\n",
              "      <td>0</td>\n",
              "      <td>0</td>\n",
              "      <td>0</td>\n",
              "    </tr>\n",
              "    <tr>\n",
              "      <th>5</th>\n",
              "      <td>0</td>\n",
              "      <td>3.9</td>\n",
              "      <td>4.8</td>\n",
              "      <td>4.3</td>\n",
              "      <td>0.0</td>\n",
              "      <td>4.7</td>\n",
              "      <td>3.3</td>\n",
              "      <td>3.8</td>\n",
              "      <td>0</td>\n",
              "      <td>0</td>\n",
              "      <td>0</td>\n",
              "      <td>1</td>\n",
              "      <td>0</td>\n",
              "      <td>0</td>\n",
              "      <td>0</td>\n",
              "      <td>0</td>\n",
              "      <td>0</td>\n",
              "      <td>0</td>\n",
              "      <td>0</td>\n",
              "      <td>0</td>\n",
              "      <td>0</td>\n",
              "      <td>1</td>\n",
              "      <td>0</td>\n",
              "      <td>0</td>\n",
              "      <td>0</td>\n",
              "      <td>0</td>\n",
              "      <td>0</td>\n",
              "      <td>0</td>\n",
              "      <td>0</td>\n",
              "      <td>0</td>\n",
              "      <td>0</td>\n",
              "      <td>0</td>\n",
              "      <td>0</td>\n",
              "      <td>0</td>\n",
              "      <td>0</td>\n",
              "      <td>0</td>\n",
              "      <td>0</td>\n",
              "      <td>0</td>\n",
              "    </tr>\n",
              "  </tbody>\n",
              "</table>\n",
              "</div>\n",
              "      <button class=\"colab-df-convert\" onclick=\"convertToInteractive('df-77f8f12f-195e-42cf-ac32-18745c5ac663')\"\n",
              "              title=\"Convert this dataframe to an interactive table.\"\n",
              "              style=\"display:none;\">\n",
              "        \n",
              "  <svg xmlns=\"http://www.w3.org/2000/svg\" height=\"24px\"viewBox=\"0 0 24 24\"\n",
              "       width=\"24px\">\n",
              "    <path d=\"M0 0h24v24H0V0z\" fill=\"none\"/>\n",
              "    <path d=\"M18.56 5.44l.94 2.06.94-2.06 2.06-.94-2.06-.94-.94-2.06-.94 2.06-2.06.94zm-11 1L8.5 8.5l.94-2.06 2.06-.94-2.06-.94L8.5 2.5l-.94 2.06-2.06.94zm10 10l.94 2.06.94-2.06 2.06-.94-2.06-.94-.94-2.06-.94 2.06-2.06.94z\"/><path d=\"M17.41 7.96l-1.37-1.37c-.4-.4-.92-.59-1.43-.59-.52 0-1.04.2-1.43.59L10.3 9.45l-7.72 7.72c-.78.78-.78 2.05 0 2.83L4 21.41c.39.39.9.59 1.41.59.51 0 1.02-.2 1.41-.59l7.78-7.78 2.81-2.81c.8-.78.8-2.07 0-2.86zM5.41 20L4 18.59l7.72-7.72 1.47 1.35L5.41 20z\"/>\n",
              "  </svg>\n",
              "      </button>\n",
              "      \n",
              "  <style>\n",
              "    .colab-df-container {\n",
              "      display:flex;\n",
              "      flex-wrap:wrap;\n",
              "      gap: 12px;\n",
              "    }\n",
              "\n",
              "    .colab-df-convert {\n",
              "      background-color: #E8F0FE;\n",
              "      border: none;\n",
              "      border-radius: 50%;\n",
              "      cursor: pointer;\n",
              "      display: none;\n",
              "      fill: #1967D2;\n",
              "      height: 32px;\n",
              "      padding: 0 0 0 0;\n",
              "      width: 32px;\n",
              "    }\n",
              "\n",
              "    .colab-df-convert:hover {\n",
              "      background-color: #E2EBFA;\n",
              "      box-shadow: 0px 1px 2px rgba(60, 64, 67, 0.3), 0px 1px 3px 1px rgba(60, 64, 67, 0.15);\n",
              "      fill: #174EA6;\n",
              "    }\n",
              "\n",
              "    [theme=dark] .colab-df-convert {\n",
              "      background-color: #3B4455;\n",
              "      fill: #D2E3FC;\n",
              "    }\n",
              "\n",
              "    [theme=dark] .colab-df-convert:hover {\n",
              "      background-color: #434B5C;\n",
              "      box-shadow: 0px 1px 3px 1px rgba(0, 0, 0, 0.15);\n",
              "      filter: drop-shadow(0px 1px 2px rgba(0, 0, 0, 0.3));\n",
              "      fill: #FFFFFF;\n",
              "    }\n",
              "  </style>\n",
              "\n",
              "      <script>\n",
              "        const buttonEl =\n",
              "          document.querySelector('#df-77f8f12f-195e-42cf-ac32-18745c5ac663 button.colab-df-convert');\n",
              "        buttonEl.style.display =\n",
              "          google.colab.kernel.accessAllowed ? 'block' : 'none';\n",
              "\n",
              "        async function convertToInteractive(key) {\n",
              "          const element = document.querySelector('#df-77f8f12f-195e-42cf-ac32-18745c5ac663');\n",
              "          const dataTable =\n",
              "            await google.colab.kernel.invokeFunction('convertToInteractive',\n",
              "                                                     [key], {});\n",
              "          if (!dataTable) return;\n",
              "\n",
              "          const docLinkHtml = 'Like what you see? Visit the ' +\n",
              "            '<a target=\"_blank\" href=https://colab.research.google.com/notebooks/data_table.ipynb>data table notebook</a>'\n",
              "            + ' to learn more about interactive tables.';\n",
              "          element.innerHTML = '';\n",
              "          dataTable['output_type'] = 'display_data';\n",
              "          await google.colab.output.renderOutput(dataTable, element);\n",
              "          const docLink = document.createElement('div');\n",
              "          docLink.innerHTML = docLinkHtml;\n",
              "          element.appendChild(docLink);\n",
              "        }\n",
              "      </script>\n",
              "    </div>\n",
              "  </div>\n",
              "  "
            ]
          },
          "metadata": {},
          "execution_count": 48
        }
      ]
    },
    {
      "cell_type": "code",
      "source": [
        "#use Gelman strategy for normalization\n",
        "g_df=(ohe_df-ohe_df.mean())/(2*ohe_df.std())\n",
        "\n",
        "theDir = (ohe_df['Physical_exposure_to_flood'] - ohe_df['Physical_exposure_to_flood'].mean())/ohe_df['Physical_exposure_to_flood'].std()\n",
        "theHir = (ohe_df['Physical_exposure_to_drought'] - ohe_df['Physical_exposure_to_drought'].mean())/ohe_df['Physical_exposure_to_drought'].std()\n",
        "theLvr = (ohe_df['Conflict_probability'] - ohe_df['Conflict_probability'].mean())/ohe_df['Conflict_probability'].std()\n",
        "theUer = (ohe_df['Human'] - ohe_df['Human'].mean())/ohe_df['Human'].std()\n",
        "transformed_data = pd.DataFrame([theDir,theHir,theLvr,theUer]).T\n",
        "reg_df = ohe_df.drop(['Physical_exposure_to_flood','Physical_exposure_to_drought','Conflict_probability','Human'], axis =1 )\n",
        "reg_df = reg_df.join(transformed_data)\n",
        "reg_df.head()"
      ],
      "metadata": {
        "id": "iRRHWNB9SwHa",
        "colab": {
          "base_uri": "https://localhost:8080/"
        },
        "outputId": "2b327a89-a6c9-404a-cccc-94c855708067"
      },
      "execution_count": null,
      "outputs": [
        {
          "output_type": "execute_result",
          "data": {
            "text/plain": [
              "   COUNTRY  Natural  Political_violence  HAZARD  cpc1  cpc2  cpc3  cpc4  cpc5  \\\n",
              "1        0      4.3                 3.6     3.8     0     0     0     1     0   \n",
              "2        0      4.3                 3.6     3.8     0     0     0     1     0   \n",
              "3        0      4.3                 3.6     3.8     0     0     0     1     0   \n",
              "4        0      4.3                 0.3     3.8     0     0     0     1     0   \n",
              "5        0      4.3                 0.0     3.8     0     0     0     1     0   \n",
              "\n",
              "   cpc6  cpc7  cpc8  cpc9  cpc10  h1  h2  h3  h4  h5  h6  h7  h8  h9  h10  \\\n",
              "1     0     0     0     0      0   0   0   0   1   0   0   0   0   0    0   \n",
              "2     0     0     0     0      0   0   0   0   1   0   0   0   0   0    0   \n",
              "3     0     0     0     0      0   0   0   0   1   0   0   0   0   0    0   \n",
              "4     0     0     0     0      0   0   0   0   1   0   0   0   0   0    0   \n",
              "5     0     0     0     0      0   0   0   0   1   0   0   0   0   0    0   \n",
              "\n",
              "   h11  h12  h13  h14  h15  h16  h17  h18  h19  h20  \\\n",
              "1    0    0    0    0    0    0    0    0    0    0   \n",
              "2    0    0    0    0    0    0    0    0    0    0   \n",
              "3    0    0    0    0    0    0    0    0    0    0   \n",
              "4    0    0    0    0    0    0    0    0    0    0   \n",
              "5    0    0    0    0    0    0    0    0    0    0   \n",
              "\n",
              "   Physical_exposure_to_flood  Physical_exposure_to_drought  \\\n",
              "1                   -0.961053                     -0.111942   \n",
              "2                   -0.961053                     -0.111942   \n",
              "3                   -0.961053                     -0.111942   \n",
              "4                   -0.961053                     -0.111942   \n",
              "5                   -0.961053                     -0.111942   \n",
              "\n",
              "   Conflict_probability     Human  \n",
              "1             -0.953435 -1.010559  \n",
              "2             -0.953435 -1.010559  \n",
              "3             -0.953435 -1.010559  \n",
              "4             -0.953435 -1.010559  \n",
              "5             -0.953435 -1.010559  "
            ],
            "text/html": [
              "\n",
              "  <div id=\"df-11282018-484a-459c-bfe4-ace69d603961\">\n",
              "    <div class=\"colab-df-container\">\n",
              "      <div>\n",
              "<style scoped>\n",
              "    .dataframe tbody tr th:only-of-type {\n",
              "        vertical-align: middle;\n",
              "    }\n",
              "\n",
              "    .dataframe tbody tr th {\n",
              "        vertical-align: top;\n",
              "    }\n",
              "\n",
              "    .dataframe thead th {\n",
              "        text-align: right;\n",
              "    }\n",
              "</style>\n",
              "<table border=\"1\" class=\"dataframe\">\n",
              "  <thead>\n",
              "    <tr style=\"text-align: right;\">\n",
              "      <th></th>\n",
              "      <th>COUNTRY</th>\n",
              "      <th>Natural</th>\n",
              "      <th>Political_violence</th>\n",
              "      <th>HAZARD</th>\n",
              "      <th>cpc1</th>\n",
              "      <th>cpc2</th>\n",
              "      <th>cpc3</th>\n",
              "      <th>cpc4</th>\n",
              "      <th>cpc5</th>\n",
              "      <th>cpc6</th>\n",
              "      <th>cpc7</th>\n",
              "      <th>cpc8</th>\n",
              "      <th>cpc9</th>\n",
              "      <th>cpc10</th>\n",
              "      <th>h1</th>\n",
              "      <th>h2</th>\n",
              "      <th>h3</th>\n",
              "      <th>h4</th>\n",
              "      <th>h5</th>\n",
              "      <th>h6</th>\n",
              "      <th>h7</th>\n",
              "      <th>h8</th>\n",
              "      <th>h9</th>\n",
              "      <th>h10</th>\n",
              "      <th>h11</th>\n",
              "      <th>h12</th>\n",
              "      <th>h13</th>\n",
              "      <th>h14</th>\n",
              "      <th>h15</th>\n",
              "      <th>h16</th>\n",
              "      <th>h17</th>\n",
              "      <th>h18</th>\n",
              "      <th>h19</th>\n",
              "      <th>h20</th>\n",
              "      <th>Physical_exposure_to_flood</th>\n",
              "      <th>Physical_exposure_to_drought</th>\n",
              "      <th>Conflict_probability</th>\n",
              "      <th>Human</th>\n",
              "    </tr>\n",
              "  </thead>\n",
              "  <tbody>\n",
              "    <tr>\n",
              "      <th>1</th>\n",
              "      <td>0</td>\n",
              "      <td>4.3</td>\n",
              "      <td>3.6</td>\n",
              "      <td>3.8</td>\n",
              "      <td>0</td>\n",
              "      <td>0</td>\n",
              "      <td>0</td>\n",
              "      <td>1</td>\n",
              "      <td>0</td>\n",
              "      <td>0</td>\n",
              "      <td>0</td>\n",
              "      <td>0</td>\n",
              "      <td>0</td>\n",
              "      <td>0</td>\n",
              "      <td>0</td>\n",
              "      <td>0</td>\n",
              "      <td>0</td>\n",
              "      <td>1</td>\n",
              "      <td>0</td>\n",
              "      <td>0</td>\n",
              "      <td>0</td>\n",
              "      <td>0</td>\n",
              "      <td>0</td>\n",
              "      <td>0</td>\n",
              "      <td>0</td>\n",
              "      <td>0</td>\n",
              "      <td>0</td>\n",
              "      <td>0</td>\n",
              "      <td>0</td>\n",
              "      <td>0</td>\n",
              "      <td>0</td>\n",
              "      <td>0</td>\n",
              "      <td>0</td>\n",
              "      <td>0</td>\n",
              "      <td>-0.961053</td>\n",
              "      <td>-0.111942</td>\n",
              "      <td>-0.953435</td>\n",
              "      <td>-1.010559</td>\n",
              "    </tr>\n",
              "    <tr>\n",
              "      <th>2</th>\n",
              "      <td>0</td>\n",
              "      <td>4.3</td>\n",
              "      <td>3.6</td>\n",
              "      <td>3.8</td>\n",
              "      <td>0</td>\n",
              "      <td>0</td>\n",
              "      <td>0</td>\n",
              "      <td>1</td>\n",
              "      <td>0</td>\n",
              "      <td>0</td>\n",
              "      <td>0</td>\n",
              "      <td>0</td>\n",
              "      <td>0</td>\n",
              "      <td>0</td>\n",
              "      <td>0</td>\n",
              "      <td>0</td>\n",
              "      <td>0</td>\n",
              "      <td>1</td>\n",
              "      <td>0</td>\n",
              "      <td>0</td>\n",
              "      <td>0</td>\n",
              "      <td>0</td>\n",
              "      <td>0</td>\n",
              "      <td>0</td>\n",
              "      <td>0</td>\n",
              "      <td>0</td>\n",
              "      <td>0</td>\n",
              "      <td>0</td>\n",
              "      <td>0</td>\n",
              "      <td>0</td>\n",
              "      <td>0</td>\n",
              "      <td>0</td>\n",
              "      <td>0</td>\n",
              "      <td>0</td>\n",
              "      <td>-0.961053</td>\n",
              "      <td>-0.111942</td>\n",
              "      <td>-0.953435</td>\n",
              "      <td>-1.010559</td>\n",
              "    </tr>\n",
              "    <tr>\n",
              "      <th>3</th>\n",
              "      <td>0</td>\n",
              "      <td>4.3</td>\n",
              "      <td>3.6</td>\n",
              "      <td>3.8</td>\n",
              "      <td>0</td>\n",
              "      <td>0</td>\n",
              "      <td>0</td>\n",
              "      <td>1</td>\n",
              "      <td>0</td>\n",
              "      <td>0</td>\n",
              "      <td>0</td>\n",
              "      <td>0</td>\n",
              "      <td>0</td>\n",
              "      <td>0</td>\n",
              "      <td>0</td>\n",
              "      <td>0</td>\n",
              "      <td>0</td>\n",
              "      <td>1</td>\n",
              "      <td>0</td>\n",
              "      <td>0</td>\n",
              "      <td>0</td>\n",
              "      <td>0</td>\n",
              "      <td>0</td>\n",
              "      <td>0</td>\n",
              "      <td>0</td>\n",
              "      <td>0</td>\n",
              "      <td>0</td>\n",
              "      <td>0</td>\n",
              "      <td>0</td>\n",
              "      <td>0</td>\n",
              "      <td>0</td>\n",
              "      <td>0</td>\n",
              "      <td>0</td>\n",
              "      <td>0</td>\n",
              "      <td>-0.961053</td>\n",
              "      <td>-0.111942</td>\n",
              "      <td>-0.953435</td>\n",
              "      <td>-1.010559</td>\n",
              "    </tr>\n",
              "    <tr>\n",
              "      <th>4</th>\n",
              "      <td>0</td>\n",
              "      <td>4.3</td>\n",
              "      <td>0.3</td>\n",
              "      <td>3.8</td>\n",
              "      <td>0</td>\n",
              "      <td>0</td>\n",
              "      <td>0</td>\n",
              "      <td>1</td>\n",
              "      <td>0</td>\n",
              "      <td>0</td>\n",
              "      <td>0</td>\n",
              "      <td>0</td>\n",
              "      <td>0</td>\n",
              "      <td>0</td>\n",
              "      <td>0</td>\n",
              "      <td>0</td>\n",
              "      <td>0</td>\n",
              "      <td>1</td>\n",
              "      <td>0</td>\n",
              "      <td>0</td>\n",
              "      <td>0</td>\n",
              "      <td>0</td>\n",
              "      <td>0</td>\n",
              "      <td>0</td>\n",
              "      <td>0</td>\n",
              "      <td>0</td>\n",
              "      <td>0</td>\n",
              "      <td>0</td>\n",
              "      <td>0</td>\n",
              "      <td>0</td>\n",
              "      <td>0</td>\n",
              "      <td>0</td>\n",
              "      <td>0</td>\n",
              "      <td>0</td>\n",
              "      <td>-0.961053</td>\n",
              "      <td>-0.111942</td>\n",
              "      <td>-0.953435</td>\n",
              "      <td>-1.010559</td>\n",
              "    </tr>\n",
              "    <tr>\n",
              "      <th>5</th>\n",
              "      <td>0</td>\n",
              "      <td>4.3</td>\n",
              "      <td>0.0</td>\n",
              "      <td>3.8</td>\n",
              "      <td>0</td>\n",
              "      <td>0</td>\n",
              "      <td>0</td>\n",
              "      <td>1</td>\n",
              "      <td>0</td>\n",
              "      <td>0</td>\n",
              "      <td>0</td>\n",
              "      <td>0</td>\n",
              "      <td>0</td>\n",
              "      <td>0</td>\n",
              "      <td>0</td>\n",
              "      <td>0</td>\n",
              "      <td>0</td>\n",
              "      <td>1</td>\n",
              "      <td>0</td>\n",
              "      <td>0</td>\n",
              "      <td>0</td>\n",
              "      <td>0</td>\n",
              "      <td>0</td>\n",
              "      <td>0</td>\n",
              "      <td>0</td>\n",
              "      <td>0</td>\n",
              "      <td>0</td>\n",
              "      <td>0</td>\n",
              "      <td>0</td>\n",
              "      <td>0</td>\n",
              "      <td>0</td>\n",
              "      <td>0</td>\n",
              "      <td>0</td>\n",
              "      <td>0</td>\n",
              "      <td>-0.961053</td>\n",
              "      <td>-0.111942</td>\n",
              "      <td>-0.953435</td>\n",
              "      <td>-1.010559</td>\n",
              "    </tr>\n",
              "  </tbody>\n",
              "</table>\n",
              "</div>\n",
              "      <button class=\"colab-df-convert\" onclick=\"convertToInteractive('df-11282018-484a-459c-bfe4-ace69d603961')\"\n",
              "              title=\"Convert this dataframe to an interactive table.\"\n",
              "              style=\"display:none;\">\n",
              "        \n",
              "  <svg xmlns=\"http://www.w3.org/2000/svg\" height=\"24px\"viewBox=\"0 0 24 24\"\n",
              "       width=\"24px\">\n",
              "    <path d=\"M0 0h24v24H0V0z\" fill=\"none\"/>\n",
              "    <path d=\"M18.56 5.44l.94 2.06.94-2.06 2.06-.94-2.06-.94-.94-2.06-.94 2.06-2.06.94zm-11 1L8.5 8.5l.94-2.06 2.06-.94-2.06-.94L8.5 2.5l-.94 2.06-2.06.94zm10 10l.94 2.06.94-2.06 2.06-.94-2.06-.94-.94-2.06-.94 2.06-2.06.94z\"/><path d=\"M17.41 7.96l-1.37-1.37c-.4-.4-.92-.59-1.43-.59-.52 0-1.04.2-1.43.59L10.3 9.45l-7.72 7.72c-.78.78-.78 2.05 0 2.83L4 21.41c.39.39.9.59 1.41.59.51 0 1.02-.2 1.41-.59l7.78-7.78 2.81-2.81c.8-.78.8-2.07 0-2.86zM5.41 20L4 18.59l7.72-7.72 1.47 1.35L5.41 20z\"/>\n",
              "  </svg>\n",
              "      </button>\n",
              "      \n",
              "  <style>\n",
              "    .colab-df-container {\n",
              "      display:flex;\n",
              "      flex-wrap:wrap;\n",
              "      gap: 12px;\n",
              "    }\n",
              "\n",
              "    .colab-df-convert {\n",
              "      background-color: #E8F0FE;\n",
              "      border: none;\n",
              "      border-radius: 50%;\n",
              "      cursor: pointer;\n",
              "      display: none;\n",
              "      fill: #1967D2;\n",
              "      height: 32px;\n",
              "      padding: 0 0 0 0;\n",
              "      width: 32px;\n",
              "    }\n",
              "\n",
              "    .colab-df-convert:hover {\n",
              "      background-color: #E2EBFA;\n",
              "      box-shadow: 0px 1px 2px rgba(60, 64, 67, 0.3), 0px 1px 3px 1px rgba(60, 64, 67, 0.15);\n",
              "      fill: #174EA6;\n",
              "    }\n",
              "\n",
              "    [theme=dark] .colab-df-convert {\n",
              "      background-color: #3B4455;\n",
              "      fill: #D2E3FC;\n",
              "    }\n",
              "\n",
              "    [theme=dark] .colab-df-convert:hover {\n",
              "      background-color: #434B5C;\n",
              "      box-shadow: 0px 1px 3px 1px rgba(0, 0, 0, 0.15);\n",
              "      filter: drop-shadow(0px 1px 2px rgba(0, 0, 0, 0.3));\n",
              "      fill: #FFFFFF;\n",
              "    }\n",
              "  </style>\n",
              "\n",
              "      <script>\n",
              "        const buttonEl =\n",
              "          document.querySelector('#df-11282018-484a-459c-bfe4-ace69d603961 button.colab-df-convert');\n",
              "        buttonEl.style.display =\n",
              "          google.colab.kernel.accessAllowed ? 'block' : 'none';\n",
              "\n",
              "        async function convertToInteractive(key) {\n",
              "          const element = document.querySelector('#df-11282018-484a-459c-bfe4-ace69d603961');\n",
              "          const dataTable =\n",
              "            await google.colab.kernel.invokeFunction('convertToInteractive',\n",
              "                                                     [key], {});\n",
              "          if (!dataTable) return;\n",
              "\n",
              "          const docLinkHtml = 'Like what you see? Visit the ' +\n",
              "            '<a target=\"_blank\" href=https://colab.research.google.com/notebooks/data_table.ipynb>data table notebook</a>'\n",
              "            + ' to learn more about interactive tables.';\n",
              "          element.innerHTML = '';\n",
              "          dataTable['output_type'] = 'display_data';\n",
              "          await google.colab.output.renderOutput(dataTable, element);\n",
              "          const docLink = document.createElement('div');\n",
              "          docLink.innerHTML = docLinkHtml;\n",
              "          element.appendChild(docLink);\n",
              "        }\n",
              "      </script>\n",
              "    </div>\n",
              "  </div>\n",
              "  "
            ]
          },
          "metadata": {},
          "execution_count": 49
        }
      ]
    },
    {
      "cell_type": "markdown",
      "source": [
        "<h1>Deminision Reduction</h1>"
      ],
      "metadata": {
        "id": "25bZPn6lX0Y2"
      }
    },
    {
      "cell_type": "code",
      "source": [
        "# show visual representation of the correlation matrix\n",
        "withinq = df.merge(df['Inequality'])\n",
        "corrMatrix = withinq.corr()\n",
        "plt.rcParams.update({'font.size': 12,'figure.figsize':(30,30)})\n",
        "f3 = sns.heatmap(corrMatrix, annot=True)\n",
        "plt.show() # show plot"
      ],
      "metadata": {
        "id": "q-fyviQaS81O",
        "colab": {
          "base_uri": "https://localhost:8080/"
        },
        "outputId": "5b0af870-cc55-4ccd-fd17-bffa23500cd2"
      },
      "execution_count": null,
      "outputs": [
        {
          "output_type": "display_data",
          "data": {
            "text/plain": [
              "<Figure size 2160x2160 with 2 Axes>"
            ],
            "image/png": "[encoded data removed]"
          },
          "metadata": {
            "needs_background": "light"
          }
        }
      ]
    },
    {
      "cell_type": "code",
      "source": [
        "#create a dataframe of the correlation matrix threshold of .1\n",
        "corr_columns = ['Political_violence','Physical_exposure_to_flood','Development_&_Deprivation','Conflict_probability','Natural','Physical_exposure_to_drought','Human']\n",
        "corr_df = reg_df.filter(corr_columns, axis = 1)\n",
        "corr_df.head()\n",
        "# all under .3"
      ],
      "metadata": {
        "id": "PJklENoaWskU",
        "colab": {
          "base_uri": "https://localhost:8080/"
        },
        "outputId": "aeae0120-2a9e-4e9d-afa8-d5083f7e7a63"
      },
      "execution_count": null,
      "outputs": [
        {
          "output_type": "execute_result",
          "data": {
            "text/plain": [
              "   Political_violence  Physical_exposure_to_flood  Conflict_probability  \\\n",
              "1                 3.6                   -0.961053             -0.953435   \n",
              "2                 3.6                   -0.961053             -0.953435   \n",
              "3                 3.6                   -0.961053             -0.953435   \n",
              "4                 0.3                   -0.961053             -0.953435   \n",
              "5                 0.0                   -0.961053             -0.953435   \n",
              "\n",
              "   Natural  Physical_exposure_to_drought     Human  \n",
              "1      4.3                     -0.111942 -1.010559  \n",
              "2      4.3                     -0.111942 -1.010559  \n",
              "3      4.3                     -0.111942 -1.010559  \n",
              "4      4.3                     -0.111942 -1.010559  \n",
              "5      4.3                     -0.111942 -1.010559  "
            ],
            "text/html": [
              "\n",
              "  <div id=\"df-4e8cbfb9-af8e-4c3e-9abf-5ff19d3b3747\">\n",
              "    <div class=\"colab-df-container\">\n",
              "      <div>\n",
              "<style scoped>\n",
              "    .dataframe tbody tr th:only-of-type {\n",
              "        vertical-align: middle;\n",
              "    }\n",
              "\n",
              "    .dataframe tbody tr th {\n",
              "        vertical-align: top;\n",
              "    }\n",
              "\n",
              "    .dataframe thead th {\n",
              "        text-align: right;\n",
              "    }\n",
              "</style>\n",
              "<table border=\"1\" class=\"dataframe\">\n",
              "  <thead>\n",
              "    <tr style=\"text-align: right;\">\n",
              "      <th></th>\n",
              "      <th>Political_violence</th>\n",
              "      <th>Physical_exposure_to_flood</th>\n",
              "      <th>Conflict_probability</th>\n",
              "      <th>Natural</th>\n",
              "      <th>Physical_exposure_to_drought</th>\n",
              "      <th>Human</th>\n",
              "    </tr>\n",
              "  </thead>\n",
              "  <tbody>\n",
              "    <tr>\n",
              "      <th>1</th>\n",
              "      <td>3.6</td>\n",
              "      <td>-0.961053</td>\n",
              "      <td>-0.953435</td>\n",
              "      <td>4.3</td>\n",
              "      <td>-0.111942</td>\n",
              "      <td>-1.010559</td>\n",
              "    </tr>\n",
              "    <tr>\n",
              "      <th>2</th>\n",
              "      <td>3.6</td>\n",
              "      <td>-0.961053</td>\n",
              "      <td>-0.953435</td>\n",
              "      <td>4.3</td>\n",
              "      <td>-0.111942</td>\n",
              "      <td>-1.010559</td>\n",
              "    </tr>\n",
              "    <tr>\n",
              "      <th>3</th>\n",
              "      <td>3.6</td>\n",
              "      <td>-0.961053</td>\n",
              "      <td>-0.953435</td>\n",
              "      <td>4.3</td>\n",
              "      <td>-0.111942</td>\n",
              "      <td>-1.010559</td>\n",
              "    </tr>\n",
              "    <tr>\n",
              "      <th>4</th>\n",
              "      <td>0.3</td>\n",
              "      <td>-0.961053</td>\n",
              "      <td>-0.953435</td>\n",
              "      <td>4.3</td>\n",
              "      <td>-0.111942</td>\n",
              "      <td>-1.010559</td>\n",
              "    </tr>\n",
              "    <tr>\n",
              "      <th>5</th>\n",
              "      <td>0.0</td>\n",
              "      <td>-0.961053</td>\n",
              "      <td>-0.953435</td>\n",
              "      <td>4.3</td>\n",
              "      <td>-0.111942</td>\n",
              "      <td>-1.010559</td>\n",
              "    </tr>\n",
              "  </tbody>\n",
              "</table>\n",
              "</div>\n",
              "      <button class=\"colab-df-convert\" onclick=\"convertToInteractive('df-4e8cbfb9-af8e-4c3e-9abf-5ff19d3b3747')\"\n",
              "              title=\"Convert this dataframe to an interactive table.\"\n",
              "              style=\"display:none;\">\n",
              "        \n",
              "  <svg xmlns=\"http://www.w3.org/2000/svg\" height=\"24px\"viewBox=\"0 0 24 24\"\n",
              "       width=\"24px\">\n",
              "    <path d=\"M0 0h24v24H0V0z\" fill=\"none\"/>\n",
              "    <path d=\"M18.56 5.44l.94 2.06.94-2.06 2.06-.94-2.06-.94-.94-2.06-.94 2.06-2.06.94zm-11 1L8.5 8.5l.94-2.06 2.06-.94-2.06-.94L8.5 2.5l-.94 2.06-2.06.94zm10 10l.94 2.06.94-2.06 2.06-.94-2.06-.94-.94-2.06-.94 2.06-2.06.94z\"/><path d=\"M17.41 7.96l-1.37-1.37c-.4-.4-.92-.59-1.43-.59-.52 0-1.04.2-1.43.59L10.3 9.45l-7.72 7.72c-.78.78-.78 2.05 0 2.83L4 21.41c.39.39.9.59 1.41.59.51 0 1.02-.2 1.41-.59l7.78-7.78 2.81-2.81c.8-.78.8-2.07 0-2.86zM5.41 20L4 18.59l7.72-7.72 1.47 1.35L5.41 20z\"/>\n",
              "  </svg>\n",
              "      </button>\n",
              "      \n",
              "  <style>\n",
              "    .colab-df-container {\n",
              "      display:flex;\n",
              "      flex-wrap:wrap;\n",
              "      gap: 12px;\n",
              "    }\n",
              "\n",
              "    .colab-df-convert {\n",
              "      background-color: #E8F0FE;\n",
              "      border: none;\n",
              "      border-radius: 50%;\n",
              "      cursor: pointer;\n",
              "      display: none;\n",
              "      fill: #1967D2;\n",
              "      height: 32px;\n",
              "      padding: 0 0 0 0;\n",
              "      width: 32px;\n",
              "    }\n",
              "\n",
              "    .colab-df-convert:hover {\n",
              "      background-color: #E2EBFA;\n",
              "      box-shadow: 0px 1px 2px rgba(60, 64, 67, 0.3), 0px 1px 3px 1px rgba(60, 64, 67, 0.15);\n",
              "      fill: #174EA6;\n",
              "    }\n",
              "\n",
              "    [theme=dark] .colab-df-convert {\n",
              "      background-color: #3B4455;\n",
              "      fill: #D2E3FC;\n",
              "    }\n",
              "\n",
              "    [theme=dark] .colab-df-convert:hover {\n",
              "      background-color: #434B5C;\n",
              "      box-shadow: 0px 1px 3px 1px rgba(0, 0, 0, 0.15);\n",
              "      filter: drop-shadow(0px 1px 2px rgba(0, 0, 0, 0.3));\n",
              "      fill: #FFFFFF;\n",
              "    }\n",
              "  </style>\n",
              "\n",
              "      <script>\n",
              "        const buttonEl =\n",
              "          document.querySelector('#df-4e8cbfb9-af8e-4c3e-9abf-5ff19d3b3747 button.colab-df-convert');\n",
              "        buttonEl.style.display =\n",
              "          google.colab.kernel.accessAllowed ? 'block' : 'none';\n",
              "\n",
              "        async function convertToInteractive(key) {\n",
              "          const element = document.querySelector('#df-4e8cbfb9-af8e-4c3e-9abf-5ff19d3b3747');\n",
              "          const dataTable =\n",
              "            await google.colab.kernel.invokeFunction('convertToInteractive',\n",
              "                                                     [key], {});\n",
              "          if (!dataTable) return;\n",
              "\n",
              "          const docLinkHtml = 'Like what you see? Visit the ' +\n",
              "            '<a target=\"_blank\" href=https://colab.research.google.com/notebooks/data_table.ipynb>data table notebook</a>'\n",
              "            + ' to learn more about interactive tables.';\n",
              "          element.innerHTML = '';\n",
              "          dataTable['output_type'] = 'display_data';\n",
              "          await google.colab.output.renderOutput(dataTable, element);\n",
              "          const docLink = document.createElement('div');\n",
              "          docLink.innerHTML = docLinkHtml;\n",
              "          element.appendChild(docLink);\n",
              "        }\n",
              "      </script>\n",
              "    </div>\n",
              "  </div>\n",
              "  "
            ]
          },
          "metadata": {},
          "execution_count": 51
        }
      ]
    },
    {
      "cell_type": "markdown",
      "source": [
        "#Chi Square\n",
        "\n",
        "Next we can also use the Chi Square test to see how our expected results compare to our actual results."
      ],
      "metadata": {
        "id": "cLrfeIOvx87r"
      }
    },
    {
      "cell_type": "code",
      "source": [
        "from scipy import stats\n",
        "\n",
        "target=df['Inequality'].reset_index(drop=True).copy()\n",
        "chi_sq=[]\n",
        "for i in range(0,9):\n",
        "    chi_sq.append([stats.chi2_contingency(pd.crosstab(target, df.iloc[:,i]))[0:2],i])\n",
        "chi_sq.sort(reverse=True)\n",
        "chi_sq"
      ],
      "metadata": {
        "id": "9m2vat7AtG9j",
        "colab": {
          "base_uri": "https://localhost:8080/"
        },
        "outputId": "c72a0855-04be-4dac-d258-965438cba1f9"
      },
      "execution_count": null,
      "outputs": [
        {
          "output_type": "execute_result",
          "data": {
            "text/plain": [
              "[[(2330.0929953715495, 1.6481796817095481e-21), 7],\n",
              " [(2296.8216910585784, 1.2776323348792747e-19), 3],\n",
              " [(2146.958512647484, 9.113521704306539e-08), 2],\n",
              " [(1872.1109030994996, 1.6241736441752135e-24), 8],\n",
              " [(1807.7030100019806, 4.1319710966896075e-10), 1],\n",
              " [(888.6246489614875, 0.9999976169685074), 4],\n",
              " [(863.726142865042, 1.038407471579967e-56), 5],\n",
              " [(863.7261428650419, 1.038407471580027e-56), 0],\n",
              " [(805.1655017074552, 1.7484865072711665e-06), 6]]"
            ]
          },
          "metadata": {},
          "execution_count": 52
        }
      ]
    },
    {
      "cell_type": "markdown",
      "source": [
        "#Conclusion\n"
      ],
      "metadata": {
        "id": "Qnb6MW_3EZFi"
      }
    },
    {
      "cell_type": "markdown",
      "source": [
        "In conclusion, all of the 10 countries have a fairly high overall risk index value. The correlation between the natural risk and exposure to flooding is an example of a strong relationship between two attributes. You can see that there are numerous approaches to analysing a data set like this after evaluating all these models. There is no one \"optimal model,\" and different models have different information based on the situation. However, I think the Knn and SVM measures the Inequality variable the most correctly for our purposes. It provides you with a range of useful details about the data set. In conclusion, it's possible that a combination of them all constitutes the \"optimal model.\"\n"
      ],
      "metadata": {
        "id": "S5HyJIywEUT7"
      }
    }
  ],
  "metadata": {
    "colab": {
      "collapsed_sections": [
        "g5rB6XwMtCqP",
        "-G9dH2IqFt9S",
        "HUhtYbnzf50E",
        "MqmbDcD40HJu",
        "ODAvTQYClC3x",
        "W5VHyJV05y9Y"
      ],
      "name": "381 Group Project",
      "provenance": [],
      "include_colab_link": true
    },
    "kernelspec": {
      "display_name": "Python 3",
      "name": "python3"
    }
  },
  "nbformat": 4,
  "nbformat_minor": 0
}